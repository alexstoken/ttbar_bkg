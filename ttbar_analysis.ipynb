{
 "cells": [
  {
   "cell_type": "code",
   "execution_count": 1,
   "metadata": {},
   "outputs": [
    {
     "name": "stdout",
     "output_type": "stream",
     "text": [
      "Welcome to JupyROOT 6.16/00\n"
     ]
    }
   ],
   "source": [
    "from ROOT import TFile, gDirectory\n",
    "import ROOT as r\n",
    "import os"
   ]
  },
  {
   "cell_type": "code",
   "execution_count": 2,
   "metadata": {},
   "outputs": [
    {
     "name": "stdout",
     "output_type": "stream",
     "text": [
      "running\n",
      "CPU times: user 114 µs, sys: 83 µs, total: 197 µs\n",
      "Wall time: 157 µs\n"
     ]
    }
   ],
   "source": [
    "%%time\n",
    "#test if kernel is running\n",
    "\n",
    "print('running')"
   ]
  },
  {
   "cell_type": "markdown",
   "metadata": {},
   "source": [
    "Build files into TChain"
   ]
  },
  {
   "cell_type": "code",
   "execution_count": 3,
   "metadata": {},
   "outputs": [
    {
     "name": "stdout",
     "output_type": "stream",
     "text": [
      "There are 3223533 data events and 23130773 mc events\n",
      "CPU times: user 202 ms, sys: 29.7 ms, total: 232 ms\n",
      "Wall time: 342 ms\n"
     ]
    }
   ],
   "source": [
    "%%time\n",
    "filename = 'ttbar_nonallhad_HF_PhPy8_AFII_mc16a.root'\n",
    "treename = 'nominal_Loose'\n",
    "\n",
    "list_of_files = os.listdir('../data_ttbar/')\n",
    "data_files = [f for f in list_of_files if 'data' in f]\n",
    "mc_files = [ 'ttbar_nonallhad_incl_PhPy8_AFII_mc16a.root', 'ttbar_nonallhad_incl_PhPy8_AFII_mc16d.root','ttbar_nonallhad_incl_PhPy8_AFII_mc16e.root',\n",
    "            'ttX_mc16e.root','ttX_mc16d.root','ttX_mc16a.root',\n",
    "            'vjets_Sherpa_mc16e.root','vjets_Sherpa_mc16d.root', 'vjets_Sherpa_mc16a.root',\n",
    "            'singleTop_mc16e.root','singleTop_mc16d.root','singleTop_mc16a.root',\n",
    "            'multiV_mc16a.root','multiV_mc16d.root','multiV_mc16e.root']\n",
    "#data_files = ['data15_AllYear.root']\n",
    "#mc_files = ['ttbar_nonallhad_HF_PhPy8_AFII_mc16d.root']\n",
    "\n",
    "data_chain = r.TChain(treename)\n",
    "mc_chain = r.TChain(treename)\n",
    "\n",
    "for f in data_files:\n",
    "    data_chain.Add('../data_ttbar/'+f)\n",
    "for f in mc_files:\n",
    "    mc_chain.Add('../data_ttbar/'+ f)\n",
    "\n",
    "data_entries = data_chain.GetEntries()\n",
    "mc_entries = mc_chain.GetEntries()\n",
    "\n",
    "print(f'There are {data_entries} data events and {mc_entries} mc events')"
   ]
  },
  {
   "cell_type": "code",
   "execution_count": 4,
   "metadata": {},
   "outputs": [],
   "source": [
    "#use lum = 140\n",
    "def GetWeight(lumi,tree):\n",
    "    return lumi * 1000 * tree.weight_normalise *  tree.weight_mc *  tree.weight_pileup *tree.weight_leptonSF *  tree.weight_bTagSF_MV2c10_77 *  tree.weight_jvt"
   ]
  },
  {
   "cell_type": "markdown",
   "metadata": {},
   "source": [
    "Initialize histograms"
   ]
  },
  {
   "cell_type": "code",
   "execution_count": 5,
   "metadata": {},
   "outputs": [],
   "source": [
    "#####\n",
    "#Set Up Code\n",
    "#####\n",
    "\n",
    "met_mc = r.TH1D('met_mc', 'E^{T}_{miss}', 100, 0, .8*10**6)\n",
    "jet_pt_mc = r.TH1D('jet_pt_mc', 'jet_{pt}', 100, 0, 1.5*10**6)\n",
    "met_data = r.TH1D('met_data', 'E^T_{miss}', 100, 0, .8*10**6)\n",
    "jet_pt_data = r.TH1D('jet_pt_data', 'jet_{pt}', 100, 0, 1.5*10**6)\n",
    "mu_pt_mc = r.TH1D('mu_pt_mc', '\\mu_{pt}', 100, 0, 800*10**3)\n",
    "mu_pt_data = r.TH1D('mu_pt_data', '\\mu_{pt}', 100, 0, 800*10**3)\n",
    "ht_all_mc = r.TH1D('ht_all_mc', '\\mu_{pt}', 100, 0, 4000*10**3)\n",
    "ht_all_data = r.TH1D('ht_all_data', '\\mu_{pt}', 100, 0, 4000*10**3)\n"
   ]
  },
  {
   "cell_type": "markdown",
   "metadata": {},
   "source": [
    "Fill histograms"
   ]
  },
  {
   "cell_type": "code",
   "execution_count": 7,
   "metadata": {},
   "outputs": [
    {
     "name": "stdout",
     "output_type": "stream",
     "text": [
      "CPU times: user 27min 25s, sys: 1min 8s, total: 28min 33s\n",
      "Wall time: 28min 47s\n"
     ]
    }
   ],
   "source": [
    "%%time\n",
    "for jentry in range(mc_entries):\n",
    "    nb = mc_chain.GetEntry(jentry)\n",
    "    \n",
    "    if nb<=0: continue\n",
    "        \n",
    "    #if (): continue\n",
    "    \n",
    "    \n",
    " \n",
    "    jet_pt = mc_chain.jet_pt[0]\n",
    "    met = mc_chain.met_met\n",
    "    #mu_pt = mc_chain.mu_pt\n",
    "    ht_all = mc_chain.HT_all\n",
    "    \n",
    "    \n",
    "    weight = GetWeight(104, mc_chain)\n",
    "\n",
    "    met_mc.Fill(met,weight)\n",
    "    jet_pt_mc.Fill(jet_pt, weight)\n",
    "    #mu_pt_mc.Fill(mu_pt, weight)\n",
    "    ht_all_mc.Fill(ht_all, weight)\n"
   ]
  },
  {
   "cell_type": "code",
   "execution_count": 6,
   "metadata": {},
   "outputs": [
    {
     "name": "stdout",
     "output_type": "stream",
     "text": [
      "CPU times: user 2min 2s, sys: 8.85 s, total: 2min 10s\n",
      "Wall time: 2min 12s\n"
     ]
    }
   ],
   "source": [
    "%%time\n",
    "for jentry in range(data_entries):\n",
    "    nb = data_chain.GetEntry(jentry)\n",
    "    \n",
    "    if nb<=0: continue\n",
    "        \n",
    "    #if (): continue\n",
    "    \n",
    "    \n",
    "    jet_pt = data_chain.jet_pt[0]\n",
    "    met = data_chain.met_met\n",
    "    \n",
    "    #mu_pt = data_chain.mu_pt\n",
    "\n",
    "    ht_all = data_chain.HT_all\n",
    "    \n",
    "\n",
    "    met_data.Fill(met)\n",
    "    jet_pt_data.Fill(jet_pt)\n",
    "    #mu_pt_data.Fill(mu_pt)\n",
    "    ht_all_data.Fill(ht_all)\n"
   ]
  },
  {
   "cell_type": "markdown",
   "metadata": {},
   "source": [
    "Plot and draw settings"
   ]
  },
  {
   "cell_type": "code",
   "execution_count": 23,
   "metadata": {},
   "outputs": [
    {
     "name": "stdout",
     "output_type": "stream",
     "text": [
      "Error in callback <bound method CaptureDrawnPrimitives._post_execute of <JupyROOT.helpers.utils.CaptureDrawnPrimitives object at 0x104649710>> (for post_execute):\n"
     ]
    },
    {
     "ename": "SystemError",
     "evalue": "void TPad::SaveAs(const char* filename = \"\", const char* option = \"\") =>\n    problem in C++; program state has been reset",
     "output_type": "error",
     "traceback": [
      "\u001b[0;31m---------------------------------------------------------------------------\u001b[0m",
      "\u001b[0;31mSystemError\u001b[0m                               Traceback (most recent call last)",
      "\u001b[0;32m/opt/local/Library/Frameworks/Python.framework/Versions/3.6/lib/python3.6/site-packages/JupyROOT/helpers/utils.py\u001b[0m in \u001b[0;36m_post_execute\u001b[0;34m(self)\u001b[0m\n\u001b[1;32m    338\u001b[0m \u001b[0;34m\u001b[0m\u001b[0m\n\u001b[1;32m    339\u001b[0m     \u001b[0;32mdef\u001b[0m \u001b[0m_post_execute\u001b[0m\u001b[0;34m(\u001b[0m\u001b[0mself\u001b[0m\u001b[0;34m)\u001b[0m\u001b[0;34m:\u001b[0m\u001b[0;34m\u001b[0m\u001b[0;34m\u001b[0m\u001b[0m\n\u001b[0;32m--> 340\u001b[0;31m         \u001b[0mNotebookDraw\u001b[0m\u001b[0;34m(\u001b[0m\u001b[0;34m)\u001b[0m\u001b[0;34m\u001b[0m\u001b[0;34m\u001b[0m\u001b[0m\n\u001b[0m\u001b[1;32m    341\u001b[0m \u001b[0;34m\u001b[0m\u001b[0m\n\u001b[1;32m    342\u001b[0m     \u001b[0;32mdef\u001b[0m \u001b[0mregister\u001b[0m\u001b[0;34m(\u001b[0m\u001b[0mself\u001b[0m\u001b[0;34m)\u001b[0m\u001b[0;34m:\u001b[0m\u001b[0;34m\u001b[0m\u001b[0;34m\u001b[0m\u001b[0m\n",
      "\u001b[0;32m/opt/local/Library/Frameworks/Python.framework/Versions/3.6/lib/python3.6/site-packages/JupyROOT/helpers/utils.py\u001b[0m in \u001b[0;36mNotebookDraw\u001b[0;34m()\u001b[0m\n\u001b[1;32m    328\u001b[0m \u001b[0;32mdef\u001b[0m \u001b[0mNotebookDraw\u001b[0m\u001b[0;34m(\u001b[0m\u001b[0;34m)\u001b[0m\u001b[0;34m:\u001b[0m\u001b[0;34m\u001b[0m\u001b[0;34m\u001b[0m\u001b[0m\n\u001b[1;32m    329\u001b[0m     \u001b[0mDrawGeometry\u001b[0m\u001b[0;34m(\u001b[0m\u001b[0;34m)\u001b[0m\u001b[0;34m\u001b[0m\u001b[0;34m\u001b[0m\u001b[0m\n\u001b[0;32m--> 330\u001b[0;31m     \u001b[0mDrawCanvases\u001b[0m\u001b[0;34m(\u001b[0m\u001b[0;34m)\u001b[0m\u001b[0;34m\u001b[0m\u001b[0;34m\u001b[0m\u001b[0m\n\u001b[0m\u001b[1;32m    331\u001b[0m \u001b[0;34m\u001b[0m\u001b[0m\n\u001b[1;32m    332\u001b[0m \u001b[0;32mclass\u001b[0m \u001b[0mCaptureDrawnPrimitives\u001b[0m\u001b[0;34m(\u001b[0m\u001b[0mobject\u001b[0m\u001b[0;34m)\u001b[0m\u001b[0;34m:\u001b[0m\u001b[0;34m\u001b[0m\u001b[0;34m\u001b[0m\u001b[0m\n",
      "\u001b[0;32m/opt/local/Library/Frameworks/Python.framework/Versions/3.6/lib/python3.6/site-packages/JupyROOT/helpers/utils.py\u001b[0m in \u001b[0;36mDrawCanvases\u001b[0;34m()\u001b[0m\n\u001b[1;32m    324\u001b[0m     \u001b[0mdrawers\u001b[0m \u001b[0;34m=\u001b[0m \u001b[0mGetCanvasDrawers\u001b[0m\u001b[0;34m(\u001b[0m\u001b[0;34m)\u001b[0m\u001b[0;34m\u001b[0m\u001b[0;34m\u001b[0m\u001b[0m\n\u001b[1;32m    325\u001b[0m     \u001b[0;32mfor\u001b[0m \u001b[0mdrawer\u001b[0m \u001b[0;32min\u001b[0m \u001b[0mdrawers\u001b[0m\u001b[0;34m:\u001b[0m\u001b[0;34m\u001b[0m\u001b[0;34m\u001b[0m\u001b[0m\n\u001b[0;32m--> 326\u001b[0;31m         \u001b[0mdrawer\u001b[0m\u001b[0;34m.\u001b[0m\u001b[0mDraw\u001b[0m\u001b[0;34m(\u001b[0m\u001b[0;34m)\u001b[0m\u001b[0;34m\u001b[0m\u001b[0;34m\u001b[0m\u001b[0m\n\u001b[0m\u001b[1;32m    327\u001b[0m \u001b[0;34m\u001b[0m\u001b[0m\n\u001b[1;32m    328\u001b[0m \u001b[0;32mdef\u001b[0m \u001b[0mNotebookDraw\u001b[0m\u001b[0;34m(\u001b[0m\u001b[0;34m)\u001b[0m\u001b[0;34m:\u001b[0m\u001b[0;34m\u001b[0m\u001b[0;34m\u001b[0m\u001b[0m\n",
      "\u001b[0;32m/opt/local/Library/Frameworks/Python.framework/Versions/3.6/lib/python3.6/site-packages/JupyROOT/helpers/utils.py\u001b[0m in \u001b[0;36mDraw\u001b[0;34m(self)\u001b[0m\n\u001b[1;32m    457\u001b[0m \u001b[0;34m\u001b[0m\u001b[0m\n\u001b[1;32m    458\u001b[0m     \u001b[0;32mdef\u001b[0m \u001b[0mDraw\u001b[0m\u001b[0;34m(\u001b[0m\u001b[0mself\u001b[0m\u001b[0;34m)\u001b[0m\u001b[0;34m:\u001b[0m\u001b[0;34m\u001b[0m\u001b[0;34m\u001b[0m\u001b[0m\n\u001b[0;32m--> 459\u001b[0;31m         \u001b[0mself\u001b[0m\u001b[0;34m.\u001b[0m\u001b[0m_display\u001b[0m\u001b[0;34m(\u001b[0m\u001b[0;34m)\u001b[0m\u001b[0;34m\u001b[0m\u001b[0;34m\u001b[0m\u001b[0m\n\u001b[0m\u001b[1;32m    460\u001b[0m         \u001b[0;32mreturn\u001b[0m \u001b[0;36m0\u001b[0m\u001b[0;34m\u001b[0m\u001b[0;34m\u001b[0m\u001b[0m\n\u001b[1;32m    461\u001b[0m \u001b[0;34m\u001b[0m\u001b[0m\n",
      "\u001b[0;32m/opt/local/Library/Frameworks/Python.framework/Versions/3.6/lib/python3.6/site-packages/JupyROOT/helpers/utils.py\u001b[0m in \u001b[0;36m_display\u001b[0;34m(self)\u001b[0m\n\u001b[1;32m    442\u001b[0m             \u001b[0mself\u001b[0m\u001b[0;34m.\u001b[0m\u001b[0m_jsDisplay\u001b[0m\u001b[0;34m(\u001b[0m\u001b[0;34m)\u001b[0m\u001b[0;34m\u001b[0m\u001b[0;34m\u001b[0m\u001b[0m\n\u001b[1;32m    443\u001b[0m          \u001b[0;32melse\u001b[0m\u001b[0;34m:\u001b[0m\u001b[0;34m\u001b[0m\u001b[0;34m\u001b[0m\u001b[0m\n\u001b[0;32m--> 444\u001b[0;31m             \u001b[0mself\u001b[0m\u001b[0;34m.\u001b[0m\u001b[0m_pngDisplay\u001b[0m\u001b[0;34m(\u001b[0m\u001b[0;34m)\u001b[0m\u001b[0;34m\u001b[0m\u001b[0;34m\u001b[0m\u001b[0m\n\u001b[0m\u001b[1;32m    445\u001b[0m \u001b[0;34m\u001b[0m\u001b[0m\n\u001b[1;32m    446\u001b[0m     \u001b[0;32mdef\u001b[0m \u001b[0mGetDrawableObjects\u001b[0m\u001b[0;34m(\u001b[0m\u001b[0mself\u001b[0m\u001b[0;34m)\u001b[0m\u001b[0;34m:\u001b[0m\u001b[0;34m\u001b[0m\u001b[0;34m\u001b[0m\u001b[0m\n",
      "\u001b[0;32m/opt/local/Library/Frameworks/Python.framework/Versions/3.6/lib/python3.6/site-packages/JupyROOT/helpers/utils.py\u001b[0m in \u001b[0;36m_pngDisplay\u001b[0;34m(self)\u001b[0m\n\u001b[1;32m    431\u001b[0m \u001b[0;34m\u001b[0m\u001b[0m\n\u001b[1;32m    432\u001b[0m     \u001b[0;32mdef\u001b[0m \u001b[0m_pngDisplay\u001b[0m\u001b[0;34m(\u001b[0m\u001b[0mself\u001b[0m\u001b[0;34m)\u001b[0m\u001b[0;34m:\u001b[0m\u001b[0;34m\u001b[0m\u001b[0;34m\u001b[0m\u001b[0m\n\u001b[0;32m--> 433\u001b[0;31m         \u001b[0mimg\u001b[0m \u001b[0;34m=\u001b[0m \u001b[0mself\u001b[0m\u001b[0;34m.\u001b[0m\u001b[0m_getPngImage\u001b[0m\u001b[0;34m(\u001b[0m\u001b[0;34m)\u001b[0m\u001b[0;34m\u001b[0m\u001b[0;34m\u001b[0m\u001b[0m\n\u001b[0m\u001b[1;32m    434\u001b[0m         \u001b[0mIPython\u001b[0m\u001b[0;34m.\u001b[0m\u001b[0mdisplay\u001b[0m\u001b[0;34m.\u001b[0m\u001b[0mdisplay\u001b[0m\u001b[0;34m(\u001b[0m\u001b[0mimg\u001b[0m\u001b[0;34m)\u001b[0m\u001b[0;34m\u001b[0m\u001b[0;34m\u001b[0m\u001b[0m\n\u001b[1;32m    435\u001b[0m \u001b[0;34m\u001b[0m\u001b[0m\n",
      "\u001b[0;32m/opt/local/Library/Frameworks/Python.framework/Versions/3.6/lib/python3.6/site-packages/JupyROOT/helpers/utils.py\u001b[0m in \u001b[0;36m_getPngImage\u001b[0;34m(self)\u001b[0m\n\u001b[1;32m    426\u001b[0m         \u001b[0mofile\u001b[0m \u001b[0;34m=\u001b[0m \u001b[0mtempfile\u001b[0m\u001b[0;34m.\u001b[0m\u001b[0mNamedTemporaryFile\u001b[0m\u001b[0;34m(\u001b[0m\u001b[0msuffix\u001b[0m\u001b[0;34m=\u001b[0m\u001b[0;34m\".png\"\u001b[0m\u001b[0;34m)\u001b[0m\u001b[0;34m\u001b[0m\u001b[0;34m\u001b[0m\u001b[0m\n\u001b[1;32m    427\u001b[0m         \u001b[0;32mwith\u001b[0m \u001b[0m_setIgnoreLevel\u001b[0m\u001b[0;34m(\u001b[0m\u001b[0mROOT\u001b[0m\u001b[0;34m.\u001b[0m\u001b[0mkError\u001b[0m\u001b[0;34m)\u001b[0m\u001b[0;34m:\u001b[0m\u001b[0;34m\u001b[0m\u001b[0;34m\u001b[0m\u001b[0m\n\u001b[0;32m--> 428\u001b[0;31m             \u001b[0mself\u001b[0m\u001b[0;34m.\u001b[0m\u001b[0mdrawableObject\u001b[0m\u001b[0;34m.\u001b[0m\u001b[0mSaveAs\u001b[0m\u001b[0;34m(\u001b[0m\u001b[0mofile\u001b[0m\u001b[0;34m.\u001b[0m\u001b[0mname\u001b[0m\u001b[0;34m)\u001b[0m\u001b[0;34m\u001b[0m\u001b[0;34m\u001b[0m\u001b[0m\n\u001b[0m\u001b[1;32m    429\u001b[0m         \u001b[0mimg\u001b[0m \u001b[0;34m=\u001b[0m \u001b[0mIPython\u001b[0m\u001b[0;34m.\u001b[0m\u001b[0mdisplay\u001b[0m\u001b[0;34m.\u001b[0m\u001b[0mImage\u001b[0m\u001b[0;34m(\u001b[0m\u001b[0mfilename\u001b[0m\u001b[0;34m=\u001b[0m\u001b[0mofile\u001b[0m\u001b[0;34m.\u001b[0m\u001b[0mname\u001b[0m\u001b[0;34m,\u001b[0m \u001b[0mformat\u001b[0m\u001b[0;34m=\u001b[0m\u001b[0;34m'png'\u001b[0m\u001b[0;34m,\u001b[0m \u001b[0membed\u001b[0m\u001b[0;34m=\u001b[0m\u001b[0;32mTrue\u001b[0m\u001b[0;34m)\u001b[0m\u001b[0;34m\u001b[0m\u001b[0;34m\u001b[0m\u001b[0m\n\u001b[1;32m    430\u001b[0m         \u001b[0;32mreturn\u001b[0m \u001b[0mimg\u001b[0m\u001b[0;34m\u001b[0m\u001b[0;34m\u001b[0m\u001b[0m\n",
      "\u001b[0;31mSystemError\u001b[0m: void TPad::SaveAs(const char* filename = \"\", const char* option = \"\") =>\n    problem in C++; program state has been reset"
     ]
    }
   ],
   "source": [
    "###\n",
    "#Wrap Up\n",
    "####\n",
    "c = r.TCanvas()\n",
    "#jet_pt_mc.Sumw2()\n",
    "#jet_pt_data.Sumw2()\n",
    "rp_jet_pt = r.TRatioPlot(jet_pt_mc, jet_pt_data)\n",
    "rp_jet_pt.Draw()\n",
    "c.Draw()\n",
    "\n",
    "c2 = r.TCanvas()\n",
    "met_mc.Sumw2()\n",
    "met_data.Sumw2()\n",
    "rp_met = r.TRatioPlot(met_mc, met_data)\n",
    "\n",
    "rp_met.Draw()\n",
    "\n",
    "c2.Draw()\n",
    "\n",
    "\n",
    "c3 = r.TCanvas()\n",
    "jet_pt_mc.Sumw2()\n",
    "jet_pt_data.Sumw2()\n",
    "rp_jet_pt = r.TRatioPlot(jet_pt_mc, jet_pt_data)\n",
    "rp_jet_pt.Draw()\n",
    "\n",
    "c3.Draw()"
   ]
  },
  {
   "cell_type": "code",
   "execution_count": 20,
   "metadata": {},
   "outputs": [
    {
     "ename": "SystemError",
     "evalue": "void TRatioPlot::Draw(const char* chopt = \"\") =>\n    problem in C++; program state has been reset",
     "output_type": "error",
     "traceback": [
      "\u001b[0;31m---------------------------------------------------------------------------\u001b[0m",
      "\u001b[0;31mSystemError\u001b[0m                               Traceback (most recent call last)",
      "\u001b[0;32m<ipython-input-20-dc5685eec611>\u001b[0m in \u001b[0;36m<module>\u001b[0;34m()\u001b[0m\n\u001b[1;32m      4\u001b[0m \u001b[0;31m#rp_jet_pt = r.TRatioPlot(jet_pt_mc, jet_pt_data)\u001b[0m\u001b[0;34m\u001b[0m\u001b[0;34m\u001b[0m\u001b[0;34m\u001b[0m\u001b[0m\n\u001b[1;32m      5\u001b[0m \u001b[0mc5\u001b[0m\u001b[0;34m.\u001b[0m\u001b[0mSetLogy\u001b[0m\u001b[0;34m(\u001b[0m\u001b[0;36m0\u001b[0m\u001b[0;34m)\u001b[0m\u001b[0;34m\u001b[0m\u001b[0;34m\u001b[0m\u001b[0m\n\u001b[0;32m----> 6\u001b[0;31m \u001b[0mrp_met\u001b[0m\u001b[0;34m.\u001b[0m\u001b[0mDraw\u001b[0m\u001b[0;34m(\u001b[0m\u001b[0;34m)\u001b[0m\u001b[0;34m\u001b[0m\u001b[0;34m\u001b[0m\u001b[0m\n\u001b[0m\u001b[1;32m      7\u001b[0m \u001b[0mlower_y\u001b[0m \u001b[0;34m=\u001b[0m \u001b[0mrp_met\u001b[0m\u001b[0;34m.\u001b[0m\u001b[0mGetLowerRefYaxis\u001b[0m\u001b[0;34m(\u001b[0m\u001b[0;34m)\u001b[0m\u001b[0;34m\u001b[0m\u001b[0;34m\u001b[0m\u001b[0m\n\u001b[1;32m      8\u001b[0m \u001b[0mlower_y\u001b[0m\u001b[0;34m.\u001b[0m\u001b[0mSetTitle\u001b[0m\u001b[0;34m(\u001b[0m\u001b[0;34m'MC/Data'\u001b[0m\u001b[0;34m)\u001b[0m\u001b[0;34m\u001b[0m\u001b[0;34m\u001b[0m\u001b[0m\n",
      "\u001b[0;31mSystemError\u001b[0m: void TRatioPlot::Draw(const char* chopt = \"\") =>\n    problem in C++; program state has been reset"
     ]
    },
    {
     "name": "stdout",
     "output_type": "stream",
     "text": [
      "[/usr/lib/system/libsystem_platform.dylib] _sigtramp (no debug info)\n",
      "[<unknown binary>] (no debug info)\n",
      "[<unknown binary>] (no debug info)\n",
      "[/opt/local/Library/Frameworks/Python.framework/Versions/3.6/lib/python3.6/libPyROOT.so] FastCall(long, void*, void*, void*) (no debug info)\n",
      "[/opt/local/Library/Frameworks/Python.framework/Versions/3.6/lib/python3.6/libPyROOT.so] PyROOT::TVoidExecutor::Execute(long, void*, PyROOT::TCallContext*) (no debug info)\n",
      "[/opt/local/Library/Frameworks/Python.framework/Versions/3.6/lib/python3.6/libPyROOT.so] PyROOT::TMethodHolder::CallFast(void*, long, PyROOT::TCallContext*) (no debug info)\n",
      "[/opt/local/Library/Frameworks/Python.framework/Versions/3.6/lib/python3.6/libPyROOT.so] PyROOT::TMethodHolder::CallSafe(void*, long, PyROOT::TCallContext*) (no debug info)\n",
      "[/opt/local/Library/Frameworks/Python.framework/Versions/3.6/lib/python3.6/libPyROOT.so] PyROOT::TMethodHolder::Execute(void*, long, PyROOT::TCallContext*) (no debug info)\n",
      "[/opt/local/Library/Frameworks/Python.framework/Versions/3.6/lib/python3.6/libPyROOT.so] PyROOT::TMethodHolder::Call(PyROOT::ObjectProxy*&, _object*, _object*, PyROOT::TCallContext*) (no debug info)\n",
      "[/opt/local/Library/Frameworks/Python.framework/Versions/3.6/lib/python3.6/libPyROOT.so] PyROOT::(anonymous namespace)::mp_call(PyROOT::MethodProxy*, _object*, _object*) (no debug info)\n",
      "[/opt/local/Library/Frameworks/Python.framework/Versions/3.6/Python] _PyObject_FastCallDict (no debug info)\n",
      "[/opt/local/Library/Frameworks/Python.framework/Versions/3.6/Python] call_function (no debug info)\n",
      "[/opt/local/Library/Frameworks/Python.framework/Versions/3.6/Python] _PyEval_EvalFrameDefault (no debug info)\n",
      "[/opt/local/Library/Frameworks/Python.framework/Versions/3.6/Python] _PyEval_EvalCodeWithName (no debug info)\n",
      "[/opt/local/Library/Frameworks/Python.framework/Versions/3.6/Python] PyEval_EvalCode (no debug info)\n",
      "[/opt/local/Library/Frameworks/Python.framework/Versions/3.6/Python] builtin_exec (no debug info)\n",
      "[/opt/local/Library/Frameworks/Python.framework/Versions/3.6/Python] _PyCFunction_FastCallDict (no debug info)\n",
      "[/opt/local/Library/Frameworks/Python.framework/Versions/3.6/Python] call_function (no debug info)\n",
      "[/opt/local/Library/Frameworks/Python.framework/Versions/3.6/Python] _PyEval_EvalFrameDefault (no debug info)\n",
      "[/opt/local/Library/Frameworks/Python.framework/Versions/3.6/Python] _PyEval_EvalCodeWithName (no debug info)\n",
      "[/opt/local/Library/Frameworks/Python.framework/Versions/3.6/Python] fast_function (no debug info)\n",
      "[/opt/local/Library/Frameworks/Python.framework/Versions/3.6/Python] call_function (no debug info)\n",
      "[/opt/local/Library/Frameworks/Python.framework/Versions/3.6/Python] _PyEval_EvalFrameDefault (no debug info)\n",
      "[/opt/local/Library/Frameworks/Python.framework/Versions/3.6/Python] _PyEval_EvalCodeWithName (no debug info)\n",
      "[/opt/local/Library/Frameworks/Python.framework/Versions/3.6/Python] fast_function (no debug info)\n",
      "[/opt/local/Library/Frameworks/Python.framework/Versions/3.6/Python] call_function (no debug info)\n",
      "[/opt/local/Library/Frameworks/Python.framework/Versions/3.6/Python] _PyEval_EvalFrameDefault (no debug info)\n",
      "[/opt/local/Library/Frameworks/Python.framework/Versions/3.6/Python] _PyEval_EvalCodeWithName (no debug info)\n",
      "[/opt/local/Library/Frameworks/Python.framework/Versions/3.6/Python] fast_function (no debug info)\n",
      "[/opt/local/Library/Frameworks/Python.framework/Versions/3.6/Python] call_function (no debug info)\n",
      "[/opt/local/Library/Frameworks/Python.framework/Versions/3.6/Python] _PyEval_EvalFrameDefault (no debug info)\n",
      "[/opt/local/Library/Frameworks/Python.framework/Versions/3.6/Python] _PyEval_EvalCodeWithName (no debug info)\n",
      "[/opt/local/Library/Frameworks/Python.framework/Versions/3.6/Python] _PyFunction_FastCallDict (no debug info)\n",
      "[/opt/local/Library/Frameworks/Python.framework/Versions/3.6/Python] _PyObject_FastCallDict (no debug info)\n",
      "[/opt/local/Library/Frameworks/Python.framework/Versions/3.6/Python] _PyObject_Call_Prepend (no debug info)\n",
      "[/opt/local/Library/Frameworks/Python.framework/Versions/3.6/Python] PyObject_Call (no debug info)\n",
      "[/opt/local/Library/Frameworks/Python.framework/Versions/3.6/Python] _PyEval_EvalFrameDefault (no debug info)\n",
      "[/opt/local/Library/Frameworks/Python.framework/Versions/3.6/Python] _PyEval_EvalCodeWithName (no debug info)\n",
      "[/opt/local/Library/Frameworks/Python.framework/Versions/3.6/Python] fast_function (no debug info)\n",
      "[/opt/local/Library/Frameworks/Python.framework/Versions/3.6/Python] call_function (no debug info)\n",
      "[/opt/local/Library/Frameworks/Python.framework/Versions/3.6/Python] _PyEval_EvalFrameDefault (no debug info)\n",
      "[/opt/local/Library/Frameworks/Python.framework/Versions/3.6/Python] gen_send_ex (no debug info)\n",
      "[/opt/local/Library/Frameworks/Python.framework/Versions/3.6/Python] builtin_next (no debug info)\n",
      "[/opt/local/Library/Frameworks/Python.framework/Versions/3.6/Python] _PyCFunction_FastCallDict (no debug info)\n",
      "[/opt/local/Library/Frameworks/Python.framework/Versions/3.6/Python] call_function (no debug info)\n",
      "[/opt/local/Library/Frameworks/Python.framework/Versions/3.6/Python] _PyEval_EvalFrameDefault (no debug info)\n",
      "[/opt/local/Library/Frameworks/Python.framework/Versions/3.6/Python] _PyEval_EvalCodeWithName (no debug info)\n",
      "[/opt/local/Library/Frameworks/Python.framework/Versions/3.6/Python] fast_function (no debug info)\n",
      "[/opt/local/Library/Frameworks/Python.framework/Versions/3.6/Python] call_function (no debug info)\n",
      "[/opt/local/Library/Frameworks/Python.framework/Versions/3.6/Python] _PyEval_EvalFrameDefault (no debug info)\n",
      "[/opt/local/Library/Frameworks/Python.framework/Versions/3.6/Python] gen_send_ex (no debug info)\n",
      "[/opt/local/Library/Frameworks/Python.framework/Versions/3.6/Python] builtin_next (no debug info)\n",
      "[/opt/local/Library/Frameworks/Python.framework/Versions/3.6/Python] _PyCFunction_FastCallDict (no debug info)\n",
      "[/opt/local/Library/Frameworks/Python.framework/Versions/3.6/Python] call_function (no debug info)\n",
      "[/opt/local/Library/Frameworks/Python.framework/Versions/3.6/Python] _PyEval_EvalFrameDefault (no debug info)\n",
      "[/opt/local/Library/Frameworks/Python.framework/Versions/3.6/Python] _PyEval_EvalCodeWithName (no debug info)\n",
      "[/opt/local/Library/Frameworks/Python.framework/Versions/3.6/Python] fast_function (no debug info)\n",
      "[/opt/local/Library/Frameworks/Python.framework/Versions/3.6/Python] call_function (no debug info)\n",
      "[/opt/local/Library/Frameworks/Python.framework/Versions/3.6/Python] _PyEval_EvalFrameDefault (no debug info)\n",
      "[/opt/local/Library/Frameworks/Python.framework/Versions/3.6/Python] gen_send_ex (no debug info)\n",
      "[/opt/local/Library/Frameworks/Python.framework/Versions/3.6/Python] builtin_next (no debug info)\n",
      "[/opt/local/Library/Frameworks/Python.framework/Versions/3.6/Python] _PyCFunction_FastCallDict (no debug info)\n",
      "[/opt/local/Library/Frameworks/Python.framework/Versions/3.6/Python] call_function (no debug info)\n",
      "[/opt/local/Library/Frameworks/Python.framework/Versions/3.6/Python] _PyEval_EvalFrameDefault (no debug info)\n",
      "[/opt/local/Library/Frameworks/Python.framework/Versions/3.6/Python] _PyEval_EvalCodeWithName (no debug info)\n",
      "[/opt/local/Library/Frameworks/Python.framework/Versions/3.6/Python] _PyFunction_FastCallDict (no debug info)\n",
      "[/opt/local/Library/Frameworks/Python.framework/Versions/3.6/Python] _PyObject_FastCallDict (no debug info)\n",
      "[/opt/local/Library/Frameworks/Python.framework/Versions/3.6/Python] _PyObject_Call_Prepend (no debug info)\n",
      "[/opt/local/Library/Frameworks/Python.framework/Versions/3.6/Python] PyObject_Call (no debug info)\n",
      "[/opt/local/Library/Frameworks/Python.framework/Versions/3.6/Python] _PyEval_EvalFrameDefault (no debug info)\n",
      "[/opt/local/Library/Frameworks/Python.framework/Versions/3.6/Python] gen_send_ex (no debug info)\n",
      "[/opt/local/Library/Frameworks/Python.framework/Versions/3.6/Python] _PyCFunction_FastCallDict (no debug info)\n",
      "[/opt/local/Library/Frameworks/Python.framework/Versions/3.6/Python] call_function (no debug info)\n",
      "[/opt/local/Library/Frameworks/Python.framework/Versions/3.6/Python] _PyEval_EvalFrameDefault (no debug info)\n",
      "[/opt/local/Library/Frameworks/Python.framework/Versions/3.6/Python] _PyFunction_FastCall (no debug info)\n",
      "[/opt/local/Library/Frameworks/Python.framework/Versions/3.6/Python] call_function (no debug info)\n",
      "[/opt/local/Library/Frameworks/Python.framework/Versions/3.6/Python] _PyEval_EvalFrameDefault (no debug info)\n",
      "[/opt/local/Library/Frameworks/Python.framework/Versions/3.6/Python] _PyEval_EvalCodeWithName (no debug info)\n",
      "[/opt/local/Library/Frameworks/Python.framework/Versions/3.6/Python] PyEval_EvalCodeEx (no debug info)\n",
      "[/opt/local/Library/Frameworks/Python.framework/Versions/3.6/Python] function_call (no debug info)\n",
      "[/opt/local/Library/Frameworks/Python.framework/Versions/3.6/Python] PyObject_Call (no debug info)\n",
      "[/opt/local/Library/Frameworks/Python.framework/Versions/3.6/Python] _PyEval_EvalFrameDefault (no debug info)\n",
      "[/opt/local/Library/Frameworks/Python.framework/Versions/3.6/Python] _PyEval_EvalCodeWithName (no debug info)\n",
      "[/opt/local/Library/Frameworks/Python.framework/Versions/3.6/Python] _PyFunction_FastCallDict (no debug info)\n",
      "[/opt/local/Library/Frameworks/Python.framework/Versions/3.6/Python] _PyObject_FastCallDict (no debug info)\n",
      "[/opt/local/Library/Frameworks/Python.framework/Versions/3.6/Python] partial_call (no debug info)\n",
      "[/opt/local/Library/Frameworks/Python.framework/Versions/3.6/Python] _PyObject_FastCallDict (no debug info)\n",
      "[/opt/local/Library/Frameworks/Python.framework/Versions/3.6/Python] call_function (no debug info)\n",
      "[/opt/local/Library/Frameworks/Python.framework/Versions/3.6/Python] _PyEval_EvalFrameDefault (no debug info)\n",
      "[/opt/local/Library/Frameworks/Python.framework/Versions/3.6/Python] _PyFunction_FastCall (no debug info)\n",
      "[/opt/local/Library/Frameworks/Python.framework/Versions/3.6/Python] _PyObject_FastCallDict (no debug info)\n",
      "[/opt/local/Library/Frameworks/Python.framework/Versions/3.6/Python] _PyObject_Call_Prepend (no debug info)\n",
      "[/opt/local/Library/Frameworks/Python.framework/Versions/3.6/Python] PyObject_Call (no debug info)\n",
      "[/opt/local/Library/Frameworks/Python.framework/Versions/3.6/Python] _PyEval_EvalFrameDefault (no debug info)\n",
      "[/opt/local/Library/Frameworks/Python.framework/Versions/3.6/Python] _PyFunction_FastCall (no debug info)\n",
      "[/opt/local/Library/Frameworks/Python.framework/Versions/3.6/Python] call_function (no debug info)\n",
      "[/opt/local/Library/Frameworks/Python.framework/Versions/3.6/Python] _PyEval_EvalFrameDefault (no debug info)\n",
      "[/opt/local/Library/Frameworks/Python.framework/Versions/3.6/Python] _PyFunction_FastCall (no debug info)\n",
      "[/opt/local/Library/Frameworks/Python.framework/Versions/3.6/Python] call_function (no debug info)\n",
      "[/opt/local/Library/Frameworks/Python.framework/Versions/3.6/Python] _PyEval_EvalFrameDefault (no debug info)\n",
      "[/opt/local/Library/Frameworks/Python.framework/Versions/3.6/Python] _PyFunction_FastCall (no debug info)\n",
      "[/opt/local/Library/Frameworks/Python.framework/Versions/3.6/Python] call_function (no debug info)\n",
      "[/opt/local/Library/Frameworks/Python.framework/Versions/3.6/Python] _PyEval_EvalFrameDefault (no debug info)\n",
      "[/opt/local/Library/Frameworks/Python.framework/Versions/3.6/Python] _PyFunction_FastCall (no debug info)\n",
      "[/opt/local/Library/Frameworks/Python.framework/Versions/3.6/Python] call_function (no debug info)\n",
      "[/opt/local/Library/Frameworks/Python.framework/Versions/3.6/Python] _PyEval_EvalFrameDefault (no debug info)\n",
      "[/opt/local/Library/Frameworks/Python.framework/Versions/3.6/Python] _PyFunction_FastCall (no debug info)\n",
      "[/opt/local/Library/Frameworks/Python.framework/Versions/3.6/Python] call_function (no debug info)\n",
      "[/opt/local/Library/Frameworks/Python.framework/Versions/3.6/Python] _PyEval_EvalFrameDefault (no debug info)\n",
      "[/opt/local/Library/Frameworks/Python.framework/Versions/3.6/Python] _PyEval_EvalCodeWithName (no debug info)\n",
      "[/opt/local/Library/Frameworks/Python.framework/Versions/3.6/Python] fast_function (no debug info)\n",
      "[/opt/local/Library/Frameworks/Python.framework/Versions/3.6/Python] call_function (no debug info)\n",
      "[/opt/local/Library/Frameworks/Python.framework/Versions/3.6/Python] _PyEval_EvalFrameDefault (no debug info)\n",
      "[/opt/local/Library/Frameworks/Python.framework/Versions/3.6/Python] _PyEval_EvalCodeWithName (no debug info)\n",
      "[/opt/local/Library/Frameworks/Python.framework/Versions/3.6/Python] PyEval_EvalCode (no debug info)\n",
      "[/opt/local/Library/Frameworks/Python.framework/Versions/3.6/Python] builtin_exec (no debug info)\n",
      "[/opt/local/Library/Frameworks/Python.framework/Versions/3.6/Python] _PyCFunction_FastCallDict (no debug info)\n",
      "[/opt/local/Library/Frameworks/Python.framework/Versions/3.6/Python] call_function (no debug info)\n",
      "[/opt/local/Library/Frameworks/Python.framework/Versions/3.6/Python] _PyEval_EvalFrameDefault (no debug info)\n",
      "[/opt/local/Library/Frameworks/Python.framework/Versions/3.6/Python] _PyEval_EvalCodeWithName (no debug info)\n",
      "[/opt/local/Library/Frameworks/Python.framework/Versions/3.6/Python] fast_function (no debug info)\n",
      "[/opt/local/Library/Frameworks/Python.framework/Versions/3.6/Python] call_function (no debug info)\n",
      "[/opt/local/Library/Frameworks/Python.framework/Versions/3.6/Python] _PyEval_EvalFrameDefault (no debug info)\n",
      "[/opt/local/Library/Frameworks/Python.framework/Versions/3.6/Python] _PyEval_EvalCodeWithName (no debug info)\n",
      "[/opt/local/Library/Frameworks/Python.framework/Versions/3.6/Python] PyEval_EvalCodeEx (no debug info)\n",
      "[/opt/local/Library/Frameworks/Python.framework/Versions/3.6/Python] function_call (no debug info)\n"
     ]
    },
    {
     "name": "stderr",
     "output_type": "stream",
     "text": [
      "\n",
      " *** Break *** segmentation violation\n"
     ]
    }
   ],
   "source": [
    "c5 = r.TCanvas()\n",
    "#jet_pt_mc.Sumw2()\n",
    "#jet_pt_data.Sumw2()\n",
    "#rp_jet_pt = r.TRatioPlot(jet_pt_mc, jet_pt_data)\n",
    "c5.SetLogy(0)\n",
    "rp_met.Draw()\n",
    "lower_y = rp_met.GetLowerRefYaxis()\n",
    "lower_y.SetTitle('MC/Data')\n",
    "jet_pt_mc.Draw()\n",
    "lower_y.SetRangeUser(0,8)\n",
    "c5.Draw()\n",
    "c5.SaveAs('jet_pt.pdf')"
   ]
  },
  {
   "cell_type": "markdown",
   "metadata": {},
   "source": [
    "dont mix HF with inc\n",
    "\n",
    "v is vector boston\n",
    "\n",
    "ttX is maybe tt +W,Z\n",
    "\n",
    "plot on logy scale and test that "
   ]
  },
  {
   "cell_type": "code",
   "execution_count": 49,
   "metadata": {},
   "outputs": [
    {
     "name": "stdout",
     "output_type": "stream",
     "text": [
      "The history saving thread hit an unexpected error (OperationalError('unable to open database file',)).History will not be written to the database.Error in callback <bound method CaptureDrawnPrimitives._post_execute of <JupyROOT.helpers.utils.CaptureDrawnPrimitives object at 0x104649710>> (for post_execute):\n"
     ]
    },
    {
     "name": "stderr",
     "output_type": "stream",
     "text": [
      "Exception in thread IPythonHistorySavingThread:\n",
      "Traceback (most recent call last):\n",
      "  File \"/opt/local/Library/Frameworks/Python.framework/Versions/3.6/lib/python3.6/site-packages/IPython/core/history.py\", line 834, in run\n",
      "  File \"</opt/local/Library/Frameworks/Python.framework/Versions/3.6/lib/python3.6/site-packages/decorator.py:decorator-gen-23>\", line 2, in writeout_cache\n",
      "  File \"/opt/local/Library/Frameworks/Python.framework/Versions/3.6/lib/python3.6/site-packages/IPython/core/history.py\", line 58, in needs_sqlite\n",
      "  File \"/opt/local/Library/Frameworks/Python.framework/Versions/3.6/lib/python3.6/site-packages/IPython/core/history.py\", line 780, in writeout_cache\n",
      "  File \"/opt/local/Library/Frameworks/Python.framework/Versions/3.6/lib/python3.6/site-packages/IPython/core/history.py\", line 764, in _writeout_input_cache\n",
      "sqlite3.OperationalError: unable to open database file\n",
      "\n",
      "During handling of the above exception, another exception occurred:\n",
      "\n",
      "Traceback (most recent call last):\n",
      "  File \"/opt/local/Library/Frameworks/Python.framework/Versions/3.6/lib/python3.6/site-packages/ipykernel/iostream.py\", line 97, in _event_pipe\n",
      "AttributeError: '_thread._local' object has no attribute 'event_pipe'\n",
      "\n",
      "During handling of the above exception, another exception occurred:\n",
      "\n",
      "Traceback (most recent call last):\n",
      "  File \"/opt/local/Library/Frameworks/Python.framework/Versions/3.6/lib/python3.6/threading.py\", line 916, in _bootstrap_inner\n",
      "  File \"</opt/local/Library/Frameworks/Python.framework/Versions/3.6/lib/python3.6/site-packages/decorator.py:decorator-gen-24>\", line 2, in run\n",
      "  File \"/opt/local/Library/Frameworks/Python.framework/Versions/3.6/lib/python3.6/site-packages/IPython/core/history.py\", line 58, in needs_sqlite\n",
      "  File \"/opt/local/Library/Frameworks/Python.framework/Versions/3.6/lib/python3.6/site-packages/IPython/core/history.py\", line 837, in run\n",
      "  File \"/opt/local/Library/Frameworks/Python.framework/Versions/3.6/lib/python3.6/site-packages/ipykernel/iostream.py\", line 400, in write\n",
      "  File \"/opt/local/Library/Frameworks/Python.framework/Versions/3.6/lib/python3.6/site-packages/ipykernel/iostream.py\", line 203, in schedule\n",
      "  File \"/opt/local/Library/Frameworks/Python.framework/Versions/3.6/lib/python3.6/site-packages/ipykernel/iostream.py\", line 101, in _event_pipe\n",
      "  File \"/opt/local/Library/Frameworks/Python.framework/Versions/3.6/lib/python3.6/site-packages/zmq/sugar/context.py\", line 146, in socket\n",
      "  File \"/opt/local/Library/Frameworks/Python.framework/Versions/3.6/lib/python3.6/site-packages/zmq/sugar/socket.py\", line 59, in __init__\n",
      "  File \"zmq/backend/cython/socket.pyx\", line 328, in zmq.backend.cython.socket.Socket.__init__\n",
      "zmq.error.ZMQError: Too many open files\n",
      "Unhandled exception in thread started by <bound method Thread._bootstrap of <HistorySavingThread(IPythonHistorySavingThread, started 123145551937536)>>\n"
     ]
    },
    {
     "ename": "OSError",
     "evalue": "[Errno 24] Too many open files: '/var/folders/81/py3qj0k91qngt9hv8k2zzyz80000gn/T/tmpj96u9as0.png'",
     "output_type": "error",
     "traceback": [
      "\u001b[0;31m---------------------------------------------------------------------------\u001b[0m",
      "\u001b[0;31mOSError\u001b[0m                                   Traceback (most recent call last)",
      "\u001b[0;32m/opt/local/Library/Frameworks/Python.framework/Versions/3.6/lib/python3.6/site-packages/JupyROOT/helpers/utils.py\u001b[0m in \u001b[0;36m_post_execute\u001b[0;34m(self)\u001b[0m\n\u001b[1;32m    338\u001b[0m \u001b[0;34m\u001b[0m\u001b[0m\n\u001b[1;32m    339\u001b[0m     \u001b[0;32mdef\u001b[0m \u001b[0m_post_execute\u001b[0m\u001b[0;34m(\u001b[0m\u001b[0mself\u001b[0m\u001b[0;34m)\u001b[0m\u001b[0;34m:\u001b[0m\u001b[0;34m\u001b[0m\u001b[0;34m\u001b[0m\u001b[0m\n\u001b[0;32m--> 340\u001b[0;31m         \u001b[0mNotebookDraw\u001b[0m\u001b[0;34m(\u001b[0m\u001b[0;34m)\u001b[0m\u001b[0;34m\u001b[0m\u001b[0;34m\u001b[0m\u001b[0m\n\u001b[0m\u001b[1;32m    341\u001b[0m \u001b[0;34m\u001b[0m\u001b[0m\n\u001b[1;32m    342\u001b[0m     \u001b[0;32mdef\u001b[0m \u001b[0mregister\u001b[0m\u001b[0;34m(\u001b[0m\u001b[0mself\u001b[0m\u001b[0;34m)\u001b[0m\u001b[0;34m:\u001b[0m\u001b[0;34m\u001b[0m\u001b[0;34m\u001b[0m\u001b[0m\n",
      "\u001b[0;32m/opt/local/Library/Frameworks/Python.framework/Versions/3.6/lib/python3.6/site-packages/JupyROOT/helpers/utils.py\u001b[0m in \u001b[0;36mNotebookDraw\u001b[0;34m()\u001b[0m\n\u001b[1;32m    328\u001b[0m \u001b[0;32mdef\u001b[0m \u001b[0mNotebookDraw\u001b[0m\u001b[0;34m(\u001b[0m\u001b[0;34m)\u001b[0m\u001b[0;34m:\u001b[0m\u001b[0;34m\u001b[0m\u001b[0;34m\u001b[0m\u001b[0m\n\u001b[1;32m    329\u001b[0m     \u001b[0mDrawGeometry\u001b[0m\u001b[0;34m(\u001b[0m\u001b[0;34m)\u001b[0m\u001b[0;34m\u001b[0m\u001b[0;34m\u001b[0m\u001b[0m\n\u001b[0;32m--> 330\u001b[0;31m     \u001b[0mDrawCanvases\u001b[0m\u001b[0;34m(\u001b[0m\u001b[0;34m)\u001b[0m\u001b[0;34m\u001b[0m\u001b[0;34m\u001b[0m\u001b[0m\n\u001b[0m\u001b[1;32m    331\u001b[0m \u001b[0;34m\u001b[0m\u001b[0m\n\u001b[1;32m    332\u001b[0m \u001b[0;32mclass\u001b[0m \u001b[0mCaptureDrawnPrimitives\u001b[0m\u001b[0;34m(\u001b[0m\u001b[0mobject\u001b[0m\u001b[0;34m)\u001b[0m\u001b[0;34m:\u001b[0m\u001b[0;34m\u001b[0m\u001b[0;34m\u001b[0m\u001b[0m\n",
      "\u001b[0;32m/opt/local/Library/Frameworks/Python.framework/Versions/3.6/lib/python3.6/site-packages/JupyROOT/helpers/utils.py\u001b[0m in \u001b[0;36mDrawCanvases\u001b[0;34m()\u001b[0m\n\u001b[1;32m    324\u001b[0m     \u001b[0mdrawers\u001b[0m \u001b[0;34m=\u001b[0m \u001b[0mGetCanvasDrawers\u001b[0m\u001b[0;34m(\u001b[0m\u001b[0;34m)\u001b[0m\u001b[0;34m\u001b[0m\u001b[0;34m\u001b[0m\u001b[0m\n\u001b[1;32m    325\u001b[0m     \u001b[0;32mfor\u001b[0m \u001b[0mdrawer\u001b[0m \u001b[0;32min\u001b[0m \u001b[0mdrawers\u001b[0m\u001b[0;34m:\u001b[0m\u001b[0;34m\u001b[0m\u001b[0;34m\u001b[0m\u001b[0m\n\u001b[0;32m--> 326\u001b[0;31m         \u001b[0mdrawer\u001b[0m\u001b[0;34m.\u001b[0m\u001b[0mDraw\u001b[0m\u001b[0;34m(\u001b[0m\u001b[0;34m)\u001b[0m\u001b[0;34m\u001b[0m\u001b[0;34m\u001b[0m\u001b[0m\n\u001b[0m\u001b[1;32m    327\u001b[0m \u001b[0;34m\u001b[0m\u001b[0m\n\u001b[1;32m    328\u001b[0m \u001b[0;32mdef\u001b[0m \u001b[0mNotebookDraw\u001b[0m\u001b[0;34m(\u001b[0m\u001b[0;34m)\u001b[0m\u001b[0;34m:\u001b[0m\u001b[0;34m\u001b[0m\u001b[0;34m\u001b[0m\u001b[0m\n",
      "\u001b[0;32m/opt/local/Library/Frameworks/Python.framework/Versions/3.6/lib/python3.6/site-packages/JupyROOT/helpers/utils.py\u001b[0m in \u001b[0;36mDraw\u001b[0;34m(self)\u001b[0m\n\u001b[1;32m    457\u001b[0m \u001b[0;34m\u001b[0m\u001b[0m\n\u001b[1;32m    458\u001b[0m     \u001b[0;32mdef\u001b[0m \u001b[0mDraw\u001b[0m\u001b[0;34m(\u001b[0m\u001b[0mself\u001b[0m\u001b[0;34m)\u001b[0m\u001b[0;34m:\u001b[0m\u001b[0;34m\u001b[0m\u001b[0;34m\u001b[0m\u001b[0m\n\u001b[0;32m--> 459\u001b[0;31m         \u001b[0mself\u001b[0m\u001b[0;34m.\u001b[0m\u001b[0m_display\u001b[0m\u001b[0;34m(\u001b[0m\u001b[0;34m)\u001b[0m\u001b[0;34m\u001b[0m\u001b[0;34m\u001b[0m\u001b[0m\n\u001b[0m\u001b[1;32m    460\u001b[0m         \u001b[0;32mreturn\u001b[0m \u001b[0;36m0\u001b[0m\u001b[0;34m\u001b[0m\u001b[0;34m\u001b[0m\u001b[0m\n\u001b[1;32m    461\u001b[0m \u001b[0;34m\u001b[0m\u001b[0m\n",
      "\u001b[0;32m/opt/local/Library/Frameworks/Python.framework/Versions/3.6/lib/python3.6/site-packages/JupyROOT/helpers/utils.py\u001b[0m in \u001b[0;36m_display\u001b[0;34m(self)\u001b[0m\n\u001b[1;32m    442\u001b[0m             \u001b[0mself\u001b[0m\u001b[0;34m.\u001b[0m\u001b[0m_jsDisplay\u001b[0m\u001b[0;34m(\u001b[0m\u001b[0;34m)\u001b[0m\u001b[0;34m\u001b[0m\u001b[0;34m\u001b[0m\u001b[0m\n\u001b[1;32m    443\u001b[0m          \u001b[0;32melse\u001b[0m\u001b[0;34m:\u001b[0m\u001b[0;34m\u001b[0m\u001b[0;34m\u001b[0m\u001b[0m\n\u001b[0;32m--> 444\u001b[0;31m             \u001b[0mself\u001b[0m\u001b[0;34m.\u001b[0m\u001b[0m_pngDisplay\u001b[0m\u001b[0;34m(\u001b[0m\u001b[0;34m)\u001b[0m\u001b[0;34m\u001b[0m\u001b[0;34m\u001b[0m\u001b[0m\n\u001b[0m\u001b[1;32m    445\u001b[0m \u001b[0;34m\u001b[0m\u001b[0m\n\u001b[1;32m    446\u001b[0m     \u001b[0;32mdef\u001b[0m \u001b[0mGetDrawableObjects\u001b[0m\u001b[0;34m(\u001b[0m\u001b[0mself\u001b[0m\u001b[0;34m)\u001b[0m\u001b[0;34m:\u001b[0m\u001b[0;34m\u001b[0m\u001b[0;34m\u001b[0m\u001b[0m\n",
      "\u001b[0;32m/opt/local/Library/Frameworks/Python.framework/Versions/3.6/lib/python3.6/site-packages/JupyROOT/helpers/utils.py\u001b[0m in \u001b[0;36m_pngDisplay\u001b[0;34m(self)\u001b[0m\n\u001b[1;32m    431\u001b[0m \u001b[0;34m\u001b[0m\u001b[0m\n\u001b[1;32m    432\u001b[0m     \u001b[0;32mdef\u001b[0m \u001b[0m_pngDisplay\u001b[0m\u001b[0;34m(\u001b[0m\u001b[0mself\u001b[0m\u001b[0;34m)\u001b[0m\u001b[0;34m:\u001b[0m\u001b[0;34m\u001b[0m\u001b[0;34m\u001b[0m\u001b[0m\n\u001b[0;32m--> 433\u001b[0;31m         \u001b[0mimg\u001b[0m \u001b[0;34m=\u001b[0m \u001b[0mself\u001b[0m\u001b[0;34m.\u001b[0m\u001b[0m_getPngImage\u001b[0m\u001b[0;34m(\u001b[0m\u001b[0;34m)\u001b[0m\u001b[0;34m\u001b[0m\u001b[0;34m\u001b[0m\u001b[0m\n\u001b[0m\u001b[1;32m    434\u001b[0m         \u001b[0mIPython\u001b[0m\u001b[0;34m.\u001b[0m\u001b[0mdisplay\u001b[0m\u001b[0;34m.\u001b[0m\u001b[0mdisplay\u001b[0m\u001b[0;34m(\u001b[0m\u001b[0mimg\u001b[0m\u001b[0;34m)\u001b[0m\u001b[0;34m\u001b[0m\u001b[0;34m\u001b[0m\u001b[0m\n\u001b[1;32m    435\u001b[0m \u001b[0;34m\u001b[0m\u001b[0m\n",
      "\u001b[0;32m/opt/local/Library/Frameworks/Python.framework/Versions/3.6/lib/python3.6/site-packages/JupyROOT/helpers/utils.py\u001b[0m in \u001b[0;36m_getPngImage\u001b[0;34m(self)\u001b[0m\n\u001b[1;32m    424\u001b[0m \u001b[0;34m\u001b[0m\u001b[0m\n\u001b[1;32m    425\u001b[0m     \u001b[0;32mdef\u001b[0m \u001b[0m_getPngImage\u001b[0m\u001b[0;34m(\u001b[0m\u001b[0mself\u001b[0m\u001b[0;34m)\u001b[0m\u001b[0;34m:\u001b[0m\u001b[0;34m\u001b[0m\u001b[0;34m\u001b[0m\u001b[0m\n\u001b[0;32m--> 426\u001b[0;31m         \u001b[0mofile\u001b[0m \u001b[0;34m=\u001b[0m \u001b[0mtempfile\u001b[0m\u001b[0;34m.\u001b[0m\u001b[0mNamedTemporaryFile\u001b[0m\u001b[0;34m(\u001b[0m\u001b[0msuffix\u001b[0m\u001b[0;34m=\u001b[0m\u001b[0;34m\".png\"\u001b[0m\u001b[0;34m)\u001b[0m\u001b[0;34m\u001b[0m\u001b[0;34m\u001b[0m\u001b[0m\n\u001b[0m\u001b[1;32m    427\u001b[0m         \u001b[0;32mwith\u001b[0m \u001b[0m_setIgnoreLevel\u001b[0m\u001b[0;34m(\u001b[0m\u001b[0mROOT\u001b[0m\u001b[0;34m.\u001b[0m\u001b[0mkError\u001b[0m\u001b[0;34m)\u001b[0m\u001b[0;34m:\u001b[0m\u001b[0;34m\u001b[0m\u001b[0;34m\u001b[0m\u001b[0m\n\u001b[1;32m    428\u001b[0m             \u001b[0mself\u001b[0m\u001b[0;34m.\u001b[0m\u001b[0mdrawableObject\u001b[0m\u001b[0;34m.\u001b[0m\u001b[0mSaveAs\u001b[0m\u001b[0;34m(\u001b[0m\u001b[0mofile\u001b[0m\u001b[0;34m.\u001b[0m\u001b[0mname\u001b[0m\u001b[0;34m)\u001b[0m\u001b[0;34m\u001b[0m\u001b[0;34m\u001b[0m\u001b[0m\n",
      "\u001b[0;32m/opt/local/Library/Frameworks/Python.framework/Versions/3.6/lib/python3.6/tempfile.py\u001b[0m in \u001b[0;36mNamedTemporaryFile\u001b[0;34m(mode, buffering, encoding, newline, suffix, prefix, dir, delete)\u001b[0m\n\u001b[1;32m    549\u001b[0m         \u001b[0mflags\u001b[0m \u001b[0;34m|=\u001b[0m \u001b[0m_os\u001b[0m\u001b[0;34m.\u001b[0m\u001b[0mO_TEMPORARY\u001b[0m\u001b[0;34m\u001b[0m\u001b[0;34m\u001b[0m\u001b[0m\n\u001b[1;32m    550\u001b[0m \u001b[0;34m\u001b[0m\u001b[0m\n\u001b[0;32m--> 551\u001b[0;31m     \u001b[0;34m(\u001b[0m\u001b[0mfd\u001b[0m\u001b[0;34m,\u001b[0m \u001b[0mname\u001b[0m\u001b[0;34m)\u001b[0m \u001b[0;34m=\u001b[0m \u001b[0m_mkstemp_inner\u001b[0m\u001b[0;34m(\u001b[0m\u001b[0mdir\u001b[0m\u001b[0;34m,\u001b[0m \u001b[0mprefix\u001b[0m\u001b[0;34m,\u001b[0m \u001b[0msuffix\u001b[0m\u001b[0;34m,\u001b[0m \u001b[0mflags\u001b[0m\u001b[0;34m,\u001b[0m \u001b[0moutput_type\u001b[0m\u001b[0;34m)\u001b[0m\u001b[0;34m\u001b[0m\u001b[0;34m\u001b[0m\u001b[0m\n\u001b[0m\u001b[1;32m    552\u001b[0m     \u001b[0;32mtry\u001b[0m\u001b[0;34m:\u001b[0m\u001b[0;34m\u001b[0m\u001b[0;34m\u001b[0m\u001b[0m\n\u001b[1;32m    553\u001b[0m         file = _io.open(fd, mode, buffering=buffering,\n",
      "\u001b[0;32m/opt/local/Library/Frameworks/Python.framework/Versions/3.6/lib/python3.6/tempfile.py\u001b[0m in \u001b[0;36m_mkstemp_inner\u001b[0;34m(dir, pre, suf, flags, output_type)\u001b[0m\n\u001b[1;32m    260\u001b[0m         \u001b[0mfile\u001b[0m \u001b[0;34m=\u001b[0m \u001b[0m_os\u001b[0m\u001b[0;34m.\u001b[0m\u001b[0mpath\u001b[0m\u001b[0;34m.\u001b[0m\u001b[0mjoin\u001b[0m\u001b[0;34m(\u001b[0m\u001b[0mdir\u001b[0m\u001b[0;34m,\u001b[0m \u001b[0mpre\u001b[0m \u001b[0;34m+\u001b[0m \u001b[0mname\u001b[0m \u001b[0;34m+\u001b[0m \u001b[0msuf\u001b[0m\u001b[0;34m)\u001b[0m\u001b[0;34m\u001b[0m\u001b[0;34m\u001b[0m\u001b[0m\n\u001b[1;32m    261\u001b[0m         \u001b[0;32mtry\u001b[0m\u001b[0;34m:\u001b[0m\u001b[0;34m\u001b[0m\u001b[0;34m\u001b[0m\u001b[0m\n\u001b[0;32m--> 262\u001b[0;31m             \u001b[0mfd\u001b[0m \u001b[0;34m=\u001b[0m \u001b[0m_os\u001b[0m\u001b[0;34m.\u001b[0m\u001b[0mopen\u001b[0m\u001b[0;34m(\u001b[0m\u001b[0mfile\u001b[0m\u001b[0;34m,\u001b[0m \u001b[0mflags\u001b[0m\u001b[0;34m,\u001b[0m \u001b[0;36m0o600\u001b[0m\u001b[0;34m)\u001b[0m\u001b[0;34m\u001b[0m\u001b[0;34m\u001b[0m\u001b[0m\n\u001b[0m\u001b[1;32m    263\u001b[0m         \u001b[0;32mexcept\u001b[0m \u001b[0mFileExistsError\u001b[0m\u001b[0;34m:\u001b[0m\u001b[0;34m\u001b[0m\u001b[0;34m\u001b[0m\u001b[0m\n\u001b[1;32m    264\u001b[0m             \u001b[0;32mcontinue\u001b[0m    \u001b[0;31m# try again\u001b[0m\u001b[0;34m\u001b[0m\u001b[0;34m\u001b[0m\u001b[0m\n",
      "\u001b[0;31mOSError\u001b[0m: [Errno 24] Too many open files: '/var/folders/81/py3qj0k91qngt9hv8k2zzyz80000gn/T/tmpj96u9as0.png'"
     ]
    }
   ],
   "source": [
    "c2 = r.TCanvas()\n",
    "met_mc.Sumw2()\n",
    "met_data.Sumw2()\n",
    "rp_met = r.TRatioPlot(met_mc, met_data)\n",
    "c2.SetLogy(1)\n",
    "rp_met.Draw()\n",
    "lower_y = rp_met.GetLowerRefYaxis()\n",
    "lower_y.SetTitle('MC/Data')\n",
    "lower_y.SetRangeUser(0,8)\n",
    "c2.Draw()\n",
    "c2.SaveAs('met_logy.pdf')"
   ]
  },
  {
   "cell_type": "code",
   "execution_count": 14,
   "metadata": {},
   "outputs": [
    {
     "name": "stderr",
     "output_type": "stream",
     "text": [
      "Warning in <TH1D::Sumw2>: Sum of squares of weights structure already created\n",
      "Warning in <TH1D::Sumw2>: Sum of squares of weights structure already created\n",
      "Warning in <TGraphAsymmErrors::Divide>: Number of graph points is different than histogram bins - 4 points have been skipped\n",
      "Info in <TCanvas::Print>: pdf file ht_all_logy.pdf has been created\n"
     ]
    },
    {
     "data": {
      "image/png": "[encoded data removed]",
      "text/plain": [
       "<IPython.core.display.Image object>"
      ]
     },
     "metadata": {},
     "output_type": "display_data"
    }
   ],
   "source": [
    "c3 = r.TCanvas()\n",
    "met_mc.Sumw2()\n",
    "met_data.Sumw2()\n",
    "rp_met = r.TRatioPlot(ht_all_mc, ht_all_data)\n",
    "c3.SetLogy(1)\n",
    "rp_met.Draw()\n",
    "lower_y = rp_met.GetLowerRefYaxis()\n",
    "lower_y.SetTitle('MC/Data')\n",
    "lower_y.SetRangeUser(0,1)\n",
    "c3.Draw()\n",
    "c3.SaveAs('ht_all_logy.pdf')"
   ]
  },
  {
   "cell_type": "code",
   "execution_count": null,
   "metadata": {},
   "outputs": [],
   "source": []
  }
 ],
 "metadata": {
  "kernelspec": {
   "display_name": "Python 3",
   "language": "python",
   "name": "python3"
  },
  "language_info": {
   "codemirror_mode": {
    "name": "ipython",
    "version": 3
   },
   "file_extension": ".py",
   "mimetype": "text/x-python",
   "name": "python",
   "nbconvert_exporter": "python",
   "pygments_lexer": "ipython3",
   "version": "3.6.8"
  }
 },
 "nbformat": 4,
 "nbformat_minor": 2
}
