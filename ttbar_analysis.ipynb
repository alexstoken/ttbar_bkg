{
 "cells": [
  {
   "cell_type": "code",
   "execution_count": 1,
   "metadata": {},
   "outputs": [
    {
     "name": "stdout",
     "output_type": "stream",
     "text": [
      "Welcome to JupyROOT 6.16/00\n"
     ]
    }
   ],
   "source": [
    "from ROOT import TFile, gDirectory\n",
    "import ROOT as r\n",
    "import os"
   ]
  },
  {
   "cell_type": "code",
   "execution_count": 2,
   "metadata": {},
   "outputs": [
    {
     "name": "stdout",
     "output_type": "stream",
     "text": [
      "running\n",
      "CPU times: user 163 µs, sys: 92 µs, total: 255 µs\n",
      "Wall time: 242 µs\n"
     ]
    }
   ],
   "source": [
    "%%time\n",
    "#test if kernel is running\n",
    "\n",
    "print('running')"
   ]
  },
  {
   "cell_type": "markdown",
   "metadata": {},
   "source": [
    "# Todo\n",
    "\n",
    "* Add plots for number of b-tagged jets\n",
    "* Check number of jets\n",
    "* extend MET plot range until no overflow \n",
    "* fix ratio scaling on log plots\n",
    "\n",
    "\n",
    "* get total sum weight of all the files (>2) # of weighted entries\n",
    "* [DONE] fix the loops so that there is only one and add a flag for data/mc to do the weighting \n",
    "* Create correction function of HT to get HT ratio ~1, make sure other rations remain unchanged, use tf1 fit or roofit\n",
    "* evaluate function of HT by making ratio comparison plots for the mc original and mc corrected\n",
    "* consider cutting off the function fit at certain HT value and flat after or adjusting bin sizes to reduce uncertainty, then fit "
   ]
  },
  {
   "cell_type": "markdown",
   "metadata": {},
   "source": [
    "Build files into TChain"
   ]
  },
  {
   "cell_type": "code",
   "execution_count": 3,
   "metadata": {},
   "outputs": [
    {
     "name": "stdout",
     "output_type": "stream",
     "text": [
      "There are 3223533 data events and 23130773 mc events\n",
      "CPU times: user 213 ms, sys: 35.5 ms, total: 248 ms\n",
      "Wall time: 274 ms\n"
     ]
    }
   ],
   "source": [
    "%%time\n",
    "filename = 'ttbar_nonallhad_HF_PhPy8_AFII_mc16a.root'\n",
    "treename = 'nominal_Loose'\n",
    "\n",
    "list_of_files = os.listdir('../data_ttbar/')\n",
    "data_files = [f for f in list_of_files if 'data' in f]\n",
    "mc_files = [ 'ttbar_nonallhad_incl_PhPy8_AFII_mc16a.root', 'ttbar_nonallhad_incl_PhPy8_AFII_mc16d.root','ttbar_nonallhad_incl_PhPy8_AFII_mc16e.root',\n",
    "            'ttX_mc16e.root','ttX_mc16d.root','ttX_mc16a.root',\n",
    "            'vjets_Sherpa_mc16e.root','vjets_Sherpa_mc16d.root', 'vjets_Sherpa_mc16a.root',\n",
    "            'singleTop_mc16e.root','singleTop_mc16d.root','singleTop_mc16a.root',\n",
    "            'multiV_mc16a.root','multiV_mc16d.root','multiV_mc16e.root']\n",
    "\n",
    "#data_files = ['data15_AllYear.root']\n",
    "#mc_files = ['ttbar_nonallhad_HF_PhPy8_AFII_mc16d.root']\n",
    "\n",
    "data_chain = r.TChain(treename)\n",
    "mc_chain = r.TChain(treename)\n",
    "\n",
    "for f in data_files:\n",
    "    data_chain.Add('../data_ttbar/'+f)\n",
    "for f in mc_files:\n",
    "    mc_chain.Add('../data_ttbar/'+ f)\n",
    "\n",
    "data_entries = data_chain.GetEntries()\n",
    "mc_entries = mc_chain.GetEntries()\n",
    "\n",
    "print(f'There are {data_entries} data events and {mc_entries} mc events')\n",
    "\n"
   ]
  },
  {
   "cell_type": "code",
   "execution_count": 4,
   "metadata": {},
   "outputs": [],
   "source": [
    "#use lum = 140\n",
    "def GetWeight(lumi,tree, corr_poly = None):\n",
    "    #w = lumi * 1000 * tree.weight_normalise *  tree.weight_mc *  tree.weight_pileup *tree.weight_leptonSF *  tree.weight_bTagSF_MV2c10_77 *  tree.weight_jvt\n",
    "    w = ((43.5938/127.64416)*(tree.runNumber == 300000)+(36.20766/127.64416)*(tree.runNumber == 284500)+(47.8427/127.64416)*(tree.runNumber == 310000))*tree.weight_normalise*tree.weight_mc*tree.weight_pileup*tree.weight_leptonSF*tree.weight_bTagSF_MV2c10_77*127.65516*1000*(tree.nBTags_MV2c10_77>1)\n",
    "    \n",
    "    if corr_poly:\n",
    "        w_ht_corrected = w / corr_poly.Eval(tree.HT_all)\n",
    "        return w_ht_corrected\n",
    "   \n",
    "    else: return w\n",
    "\n",
    "def poly_ht(func, ht):\n",
    "    pol =  func.Parameter(0) + func.Parameter(1)*ht + func.Parameter(2)* ht**2 + func.Parameter(3)* ht**3 + func.Parameter(4) * ht**4 + func.Parameter(5)*ht**5\n",
    "    return pol"
   ]
  },
  {
   "cell_type": "markdown",
   "metadata": {},
   "source": [
    "Initialize histograms"
   ]
  },
  {
   "cell_type": "code",
   "execution_count": 5,
   "metadata": {},
   "outputs": [
    {
     "name": "stdout",
     "output_type": "stream",
     "text": [
      "CPU times: user 21.4 ms, sys: 2.76 ms, total: 24.2 ms\n",
      "Wall time: 26.9 ms\n"
     ]
    }
   ],
   "source": [
    "%%time\n",
    "#####\n",
    "#Set Up Code\n",
    "#####\n",
    "\n",
    "met_mc = r.TH1D('met_mc', 'E^{T}_{miss}', 100, 0, 1.2*10**6)\n",
    "met_mc_corr = r.TH1D('met_mc_corr', 'E^{T}_{miss}', 100, 0, 1.2*10**6)\n",
    "met_data = r.TH1D('met_data', 'E^T_{miss}', 100, 0, 1.2*10**6)\n",
    "\n",
    "jet_pt_data = r.TH1D('jet_pt_data', 'jet_{pt}', 100, 0, 2*10**6)\n",
    "jet_pt_mc = r.TH1D('jet_pt_mc', 'jet_{pt}', 100, 0, 2*10**6)\n",
    "jet_pt_mc_corr = r.TH1D('jet_pt_mc_corr', 'jet_{pt}', 100, 0, 2*10**6)\n",
    "\n",
    "mu_pt_mc = r.TH1D('mu_pt_mc', '\\mu_{pt}', 100, 0, 1000*10**3)\n",
    "mu_pt_mc_corr = r.TH1D('mu_pt_mc_corr', '\\mu_{pt}', 100, 0, 1000*10**3)\n",
    "mu_pt_data = r.TH1D('mu_pt_data', '\\mu_{pt}', 100, 0, 1000*10**3)\n",
    "\n",
    "ht_all_mc = r.TH1D('ht_all_mc', 'H_{t}', 100, 0, 6000*10**3)\n",
    "ht_all_mc_corr = r.TH1D('ht_all_mc_corr', 'H_{t}', 100, 0, 6000*10**3)\n",
    "ht_all_data = r.TH1D('ht_all_data', '\\H_{t}', 100, 0, 6000*10**3)\n",
    "\n",
    "bjets_mc = r.TH1D('bjets_mc', 'Number of B Jets', 7,0,7)\n",
    "bjets_mc_corr = r.TH1D('bjets_mc_corr', 'Number of B Jets', 7,0,7)\n",
    "bjets_data = r.TH1D('bjets_data', 'Number of B Jets', 7,0,7)\n",
    "\n"
   ]
  },
  {
   "cell_type": "markdown",
   "metadata": {},
   "source": [
    "Fill histograms"
   ]
  },
  {
   "cell_type": "code",
   "execution_count": 6,
   "metadata": {},
   "outputs": [
    {
     "name": "stdout",
     "output_type": "stream",
     "text": [
      "CPU times: user 5 µs, sys: 1 µs, total: 6 µs\n",
      "Wall time: 10 µs\n"
     ]
    }
   ],
   "source": [
    "%%time\n",
    "def fill_hists(chain, entries, data, poly= None):\n",
    "    \n",
    "    for jentry in range(entries):\n",
    "        nb = chain.GetEntry(jentry)\n",
    "    \n",
    "        if nb<=0: continue\n",
    "        \n",
    "        jet_pt = chain.jet_pt[0]\n",
    "        met = chain.met_met\n",
    "        #mu_pt = mc_chain.mu_pt\n",
    "        ht_all = chain.HT_all\n",
    "        bjets_mc70 = chain.nBTags_MV2c10_70\n",
    "\n",
    "        #add conditions here\n",
    "        if (bjets_mc70 < 2): continue\n",
    "        \n",
    "        if data: \n",
    "            met_data.Fill(met)\n",
    "            jet_pt_data.Fill(jet_pt)\n",
    "            #mu_pt_data.Fill(mu_pt)\n",
    "            ht_all_data.Fill(ht_all)\n",
    "            bjets_data.Fill(bjets_mc70)\n",
    "        \n",
    "\n",
    "        elif poly:\n",
    "            weight = GetWeight(140, chain, corr_poly = poly)\n",
    "            met_mc_corr.Fill(met,weight)\n",
    "\n",
    "            jet_pt_mc_corr.Fill(jet_pt, weight)\n",
    "            #mu_pt_mc.Fill(mu_pt, weight)\n",
    "            ht_all_mc_corr.Fill(ht_all, weight)\n",
    "            bjets_mc_corr.Fill(bjets_mc70, weight)\n",
    "            \n",
    "        else:\n",
    "            weight = GetWeight(140, chain)\n",
    "            met_mc.Fill(met,weight)\n",
    "\n",
    "            jet_pt_mc.Fill(jet_pt, weight)\n",
    "            #mu_pt_mc.Fill(mu_pt, weight)\n",
    "            ht_all_mc.Fill(ht_all, weight)\n",
    "            bjets_mc.Fill(bjets_mc70, weight)"
   ]
  },
  {
   "cell_type": "code",
   "execution_count": 29,
   "metadata": {},
   "outputs": [],
   "source": [
    "def make_ratio_hists(mc_hist, data_hist, save_name, draw = True , log = False):\n",
    "    c = r.TCanvas()\n",
    "    \n",
    "    rp = r.TRatioPlot(mc_hist, data_hist)\n",
    "    rp.Draw()\n",
    "\n",
    "    if log == True:\n",
    "        c.SetLogy(1)\n",
    "    lower_y = rp.GetLowerRefYaxis()\n",
    "    \n",
    "    lower_y.SetTitle('MC/Data')\n",
    "    lower_y.SetRangeUser(0,2)\n",
    "\n",
    "    if draw == True:\n",
    "        c.Draw()\n",
    "        \n",
    "    c.SaveAs(save_name + '.root')\n",
    "    c.Close()\n",
    "    r.gSystem.ProcessEvents()\n",
    "    \n",
    "def make_ratio_compare_hists(mc_original, mc_corr_original, data, save_name, draw = True):\n",
    "    \n",
    "    c = r.TCanvas()\n",
    "        \n",
    "    mc = mc_original.Clone()\n",
    "    mc_corr = mc_corr_original.Clone()\n",
    "    \n",
    "    mc.Divide(data)\n",
    "    mc_corr.Divide(data)\n",
    "    \n",
    "    mc_corr.SetLineColor(4)\n",
    "    mc_corr.Draw()\n",
    "    mc.SetLineColor(2)\n",
    "    mc.Draw(\"SAME\")\n",
    "    \n",
    "    if draw== True:\n",
    "        c.Draw()\n",
    "\n",
    "    c.SaveAs(save_name + '.root')\n",
    "    c.Close()\n",
    "    r.gSystem.ProcessEvents()\n",
    "    \n",
    "def test_corr_fn(data_chain, mc_chain):\n",
    "    fill_hists(data_chain, 1000, data= True, poly = None)\n",
    "    fill_hists(mc_chain, 1000, data= False, poly = None)\n",
    "    \n",
    "    #clone ht_all, call divide from data, fit divided, pass fn to corr_hists\n",
    "    ht_ratio = ht_all_mc.Clone()\n",
    "    \n",
    "    ht_ratio.Divide(ht_all_data)\n",
    "    \n",
    "    ht_ratio.Fit('pol5','S')\n",
    "    \n",
    "    ht_fit = ht_ratio.GetFunction('pol5')\n",
    "    \n",
    "    \n",
    "    fill_hists(mc_chain, 1000, data = False, poly = ht_fit)\n",
    "    \n",
    "    "
   ]
  },
  {
   "cell_type": "code",
   "execution_count": 9,
   "metadata": {},
   "outputs": [
    {
     "name": "stdout",
     "output_type": "stream",
     "text": [
      "CPU times: user 372 ms, sys: 72.6 ms, total: 445 ms\n",
      "Wall time: 457 ms\n",
      "\n",
      "****************************************\n",
      "Minimizer is Linear\n",
      "Chi2                      =      10.4216\n",
      "NDf                       =           16\n",
      "p0                        =    -0.185008   +/-   0.378485    \n",
      "p1                        =   4.1036e-06   +/-   3.73549e-06 \n",
      "p2                        = -1.38568e-11   +/-   1.32317e-11 \n",
      "p3                        =  2.16649e-17   +/-   2.11024e-17 \n",
      "p4                        = -1.57839e-23   +/-   1.52746e-23 \n",
      "p5                        =  4.25779e-30   +/-   4.06328e-30 \n"
     ]
    },
    {
     "name": "stderr",
     "output_type": "stream",
     "text": [
      "Info in <TCanvas::MakeDefCanvas>:  created default TCanvas with name c1\n"
     ]
    }
   ],
   "source": [
    "%%time\n",
    "test_corr_fn(data_chain, mc_chain)"
   ]
  },
  {
   "cell_type": "code",
   "execution_count": 30,
   "metadata": {},
   "outputs": [
    {
     "name": "stderr",
     "output_type": "stream",
     "text": [
      "Info in <TCanvas::SaveAs>: ROOT file jet_corr_test4.root has been created\n"
     ]
    }
   ],
   "source": [
    "make_ratio_compare_hists(jet_pt_mc, jet_pt_mc_corr, jet_pt_data,'jet_pt_ratio', draw=False)\n",
    "make_ratio_compare_hists(met_mc, met_mc_corr, met_data,'met_ratio', draw=False)\n",
    "make_ratio_compare_hists(ht_all_mc, ht_all_mc_corr, ht_all_data,'ht_all_ratio', draw=False)\n",
    "make_ratio_compare_hists(bjets_mc, bjets_mc_corr, bjets_data,'bjets_ratio', draw=False)"
   ]
  },
  {
   "cell_type": "code",
   "execution_count": 11,
   "metadata": {},
   "outputs": [
    {
     "data": {
      "image/png": "[encoded data removed]",
      "text/plain": [
       "<IPython.core.display.Image object>"
      ]
     },
     "metadata": {},
     "output_type": "display_data"
    }
   ],
   "source": [
    "c_corr = r.TCanvas()\n",
    "\n",
    "\n",
    "ht_ratio = ht_all_mc.Clone()\n",
    "    \n",
    "ht_ratio.Divide(ht_all_data)\n",
    "        \n",
    "ht_ratio.Draw()\n",
    "    \n",
    "c_corr.Draw()"
   ]
  },
  {
   "cell_type": "code",
   "execution_count": 13,
   "metadata": {},
   "outputs": [
    {
     "data": {
      "image/png": "[encoded data removed]",
      "text/plain": [
       "<IPython.core.display.Image object>"
      ]
     },
     "metadata": {},
     "output_type": "display_data"
    }
   ],
   "source": [
    "c_c = r.TCanvas()\n",
    "\n",
    "\n",
    "ht_ratio_corr = ht_all_mc_corr.Clone()\n",
    "    \n",
    "ht_ratio_corr.Divide(ht_all_data)\n",
    "        \n",
    "ht_ratio_corr.Draw()\n",
    "    \n",
    "c_c.Draw()"
   ]
  },
  {
   "cell_type": "code",
   "execution_count": 8,
   "metadata": {},
   "outputs": [
    {
     "name": "stdout",
     "output_type": "stream",
     "text": [
      "CPU times: user 37 ms, sys: 6.6 ms, total: 43.6 ms\n",
      "Wall time: 47.1 ms\n"
     ]
    }
   ],
   "source": [
    "%%time\n",
    "fill_hists(data_chain, 10, data= True, poly = None)"
   ]
  },
  {
   "cell_type": "code",
   "execution_count": 10,
   "metadata": {},
   "outputs": [
    {
     "data": {
      "image/png": "[encoded data removed]",
      "text/plain": [
       "<IPython.core.display.Image object>"
      ]
     },
     "metadata": {},
     "output_type": "display_data"
    }
   ],
   "source": [
    "c2 = r.TCanvas()\n",
    "ht_all_mc.Draw()\n",
    "c2.Draw()"
   ]
  },
  {
   "cell_type": "code",
   "execution_count": 9,
   "metadata": {},
   "outputs": [
    {
     "name": "stdout",
     "output_type": "stream",
     "text": [
      "CPU times: user 22.5 ms, sys: 4.76 ms, total: 27.3 ms\n",
      "Wall time: 30.5 ms\n"
     ]
    }
   ],
   "source": [
    "%%time\n",
    "fill_hists(mc_chain, 10, data = False, poly = None)"
   ]
  },
  {
   "cell_type": "markdown",
   "metadata": {},
   "source": [
    "# Plot and draw settings"
   ]
  },
  {
   "cell_type": "markdown",
   "metadata": {},
   "source": [
    "## Jet pt"
   ]
  },
  {
   "cell_type": "code",
   "execution_count": 9,
   "metadata": {},
   "outputs": [
    {
     "name": "stdout",
     "output_type": "stream",
     "text": [
      "CPU times: user 138 ms, sys: 28.8 ms, total: 167 ms\n",
      "Wall time: 256 ms\n"
     ]
    },
    {
     "name": "stderr",
     "output_type": "stream",
     "text": [
      "Warning in <TGraphAsymmErrors::Divide>: Number of graph points is different than histogram bins - 30 points have been skipped\n",
      "Info in <TCanvas::SaveAs>: ROOT file jet_pt_ttbar.root has been created\n"
     ]
    },
    {
     "data": {
      "image/png": "[encoded data removed]",
      "text/plain": [
       "<IPython.core.display.Image object>"
      ]
     },
     "metadata": {},
     "output_type": "display_data"
    }
   ],
   "source": [
    "%%time\n",
    "###\n",
    "#Wrap Up\n",
    "####\n",
    "c_jet_pt = r.TCanvas()\n",
    "\n",
    "#jet_pt_mc.Sumw2()\n",
    "#jet_pt_data.Sumw2()\n",
    "rp_jet_pt = r.TRatioPlot(jet_pt_mc, jet_pt_data)\n",
    "rp_jet_pt.Draw()\n",
    "jet_pt_upper_pad = rp_jet_pt.GetUpperPad()\n",
    "\n",
    "lower_y_jetpt = rp_jet_pt.GetLowerRefYaxis()\n",
    "rp_jet_pt.GetLowerPad().SetLogy(0)\n",
    "lower_y_jetpt.SetTitle('MC/Data')\n",
    "lower_y_jetpt.SetRangeUser(0,8)\n",
    "\n",
    "\n",
    "c_jet_pt.Draw()\n",
    "c_jet_pt.SaveAs('jet_pt_ttbar.root')"
   ]
  },
  {
   "cell_type": "markdown",
   "metadata": {},
   "source": [
    "# ht "
   ]
  },
  {
   "cell_type": "code",
   "execution_count": 19,
   "metadata": {},
   "outputs": [
    {
     "name": "stdout",
     "output_type": "stream",
     "text": [
      "CPU times: user 84.4 ms, sys: 41.5 ms, total: 126 ms\n",
      "Wall time: 224 ms\n"
     ]
    },
    {
     "name": "stderr",
     "output_type": "stream",
     "text": [
      "Warning in <TGraphAsymmErrors::Divide>: Number of graph points is different than histogram bins - 46 points have been skipped\n",
      "Info in <TCanvas::SaveAs>: ROOT file ht_all_ttbar.root has been created\n"
     ]
    },
    {
     "data": {
      "image/png": "[encoded data removed]",
      "text/plain": [
       "<IPython.core.display.Image object>"
      ]
     },
     "metadata": {},
     "output_type": "display_data"
    }
   ],
   "source": [
    "%%time\n",
    "###\n",
    "#Wrap Up\n",
    "####\n",
    "c_ht = r.TCanvas()\n",
    "\n",
    "#jet_pt_mc.Sumw2()\n",
    "#jet_pt_data.Sumw2()\n",
    "rp_ht = r.TRatioPlot(ht_all_mc, ht_all_data)\n",
    "rp_ht.Draw()\n",
    "#ht_upper_pad = rp_ht.GetUpperPad()\n",
    "#ht_log_upper_pad.SetLogy(1)\n",
    "lower_y_ht_log = rp_ht.GetLowerRefYaxis()\n",
    "#rp_ht.GetLowerPad().SetLogy(0)\n",
    "lower_y_ht_log.SetTitle('MC/Data')\n",
    "lower_y_ht_log.SetRangeUser(0,2)\n",
    "\n",
    "\n",
    "c_ht.Draw()\n",
    "c_ht.SaveAs('ht_all_ttbar.root')"
   ]
  },
  {
   "cell_type": "markdown",
   "metadata": {},
   "source": [
    "## met"
   ]
  },
  {
   "cell_type": "code",
   "execution_count": 14,
   "metadata": {},
   "outputs": [
    {
     "name": "stdout",
     "output_type": "stream",
     "text": [
      "CPU times: user 8.25 ms, sys: 2.38 ms, total: 10.6 ms\n",
      "Wall time: 11.1 ms\n"
     ]
    },
    {
     "name": "stderr",
     "output_type": "stream",
     "text": [
      "Warning in <TGraphAsymmErrors::Divide>: Number of graph points is different than histogram bins - 35 points have been skipped\n",
      "Info in <TCanvas::SaveAs>: ROOT file met_ttbar.root has been created\n"
     ]
    },
    {
     "data": {
      "image/png": "[encoded data removed]",
      "text/plain": [
       "<IPython.core.display.Image object>"
      ]
     },
     "metadata": {},
     "output_type": "display_data"
    }
   ],
   "source": [
    "%%time\n",
    "###\n",
    "#Wrap Up\n",
    "####\n",
    "c_met = r.TCanvas()\n",
    "\n",
    "#jet_pt_mc.Sumw2()\n",
    "#jet_pt_data.Sumw2()\n",
    "rp_met = r.TRatioPlot(met_mc, met_data)\n",
    "rp_met.Draw()\n",
    "met_upper_pad = rp_met.GetUpperPad()\n",
    "#met_upper_pad.SetLogy(1)\n",
    "lower_y_met = rp_met.GetLowerRefYaxis()\n",
    "#rp_met.GetLowerPad().SetLogy(0)\n",
    "lower_y_met.SetTitle('MC/Data')\n",
    "lower_y_met.SetRangeUser(0,2)\n",
    "\n",
    "\n",
    "c_met.Draw()\n",
    "c_met.SaveAs('met_ttbar.root')"
   ]
  },
  {
   "cell_type": "markdown",
   "metadata": {},
   "source": [
    "## bjets"
   ]
  },
  {
   "cell_type": "code",
   "execution_count": 15,
   "metadata": {},
   "outputs": [
    {
     "name": "stdout",
     "output_type": "stream",
     "text": [
      "CPU times: user 7.64 ms, sys: 1.91 ms, total: 9.56 ms\n",
      "Wall time: 11.2 ms\n"
     ]
    },
    {
     "name": "stderr",
     "output_type": "stream",
     "text": [
      "Warning in <TGraphAsymmErrors::Divide>: Number of graph points is different than histogram bins - 3 points have been skipped\n",
      "Info in <TCanvas::SaveAs>: ROOT file bjets_bjets3.root has been created\n"
     ]
    },
    {
     "data": {
      "image/png": "[encoded data removed]",
      "text/plain": [
       "<IPython.core.display.Image object>"
      ]
     },
     "metadata": {},
     "output_type": "display_data"
    }
   ],
   "source": [
    "%%time\n",
    "###\n",
    "#Wrap Up\n",
    "####\n",
    "c_bjets = r.TCanvas()\n",
    "\n",
    "#jet_pt_mc.Sumw2()\n",
    "#jet_pt_data.Sumw2()\n",
    "rp_bjets = r.TRatioPlot(bjets_mc, bjets_data)\n",
    "rp_bjets.Draw()\n",
    "\n",
    "lower_y_bjets = rp_bjets.GetLowerRefYaxis()\n",
    "#rp_met.GetLowerPad().SetLogy(0)\n",
    "lower_y_bjets.SetTitle('MC/Data')\n",
    "lower_y_bjets.SetRangeUser(0,2)\n",
    "\n",
    "\n",
    "c_bjets.Draw()\n",
    "c_bjets.SaveAs('bjets_bjets3.root')"
   ]
  },
  {
   "cell_type": "code",
   "execution_count": 39,
   "metadata": {},
   "outputs": [
    {
     "name": "stderr",
     "output_type": "stream",
     "text": [
      "Warning in <TGraphAsymmErrors::Divide>: Number of graph points is different than histogram bins - 94 points have been skipped\n",
      "Info in <TCanvas::SaveAs>: ROOT file met_test.root has been created\n"
     ]
    }
   ],
   "source": [
    "make_ratio_hists(met_mc, met_data, 'met_test', draw=True)"
   ]
  },
  {
   "cell_type": "code",
   "execution_count": 11,
   "metadata": {},
   "outputs": [
    {
     "name": "stdout",
     "output_type": "stream",
     "text": [
      "CPU times: user 91 ms, sys: 27.9 ms, total: 119 ms\n",
      "Wall time: 125 ms\n"
     ]
    },
    {
     "name": "stderr",
     "output_type": "stream",
     "text": [
      "Info in <TCanvas::SaveAs>: ROOT file ht_correction_other.root has been created\n"
     ]
    },
    {
     "data": {
      "image/png": "[encoded data removed]",
      "text/plain": [
       "<IPython.core.display.Image object>"
      ]
     },
     "metadata": {},
     "output_type": "display_data"
    }
   ],
   "source": [
    "%%time\n",
    "###\n",
    "#Wrap Up\n",
    "####\n",
    "c_ht_corr = r.TCanvas()\n",
    "\n",
    "#ht_all_mc.Sumw2()\n",
    "#ht_all_data.Sumw2()\n",
    "\n",
    "\n",
    "#ht_all_mc.Divide(ht_all_data)\n",
    "\n",
    "ht_all_mc.Draw()\n",
    "ht_all_mc.GetYaxis().SetRangeUser(-1,3)\n",
    "c_ht_corr.Draw()\n",
    "c_ht_corr.SaveAs('ht_correction_other.root')"
   ]
  },
  {
   "cell_type": "code",
   "execution_count": 12,
   "metadata": {},
   "outputs": [
    {
     "name": "stdout",
     "output_type": "stream",
     "text": [
      "\n",
      "****************************************\n",
      "Minimizer is Linear\n",
      "Chi2                      =  7.24726e+06\n",
      "NDf                       =           88\n",
      "p0                        =      26745.8   +/-   29.5963     \n",
      "p1                        =   -0.0300952   +/-   3.50378e-05 \n",
      "p2                        =  1.33348e-08   +/-   1.63844e-11 \n",
      "p3                        = -2.91605e-15   +/-   3.7733e-18  \n",
      "p4                        =  3.15339e-22   +/-   4.28153e-25 \n",
      "p5                        = -1.35105e-29   +/-   1.91741e-32 \n"
     ]
    },
    {
     "data": {
      "image/png": "[encoded data removed]",
      "text/plain": [
       "<IPython.core.display.Image object>"
      ]
     },
     "metadata": {},
     "output_type": "display_data"
    }
   ],
   "source": [
    "t_fit = ht_all_mc.Fit('pol5', 'S')\n",
    "ht_all_mc.Draw()\n",
    "c_ht_corr.Draw()"
   ]
  },
  {
   "cell_type": "code",
   "execution_count": 16,
   "metadata": {},
   "outputs": [
    {
     "data": {
      "text/plain": [
       "26715.727693224253"
      ]
     },
     "execution_count": 16,
     "metadata": {},
     "output_type": "execute_result"
    }
   ],
   "source": [
    "test_f = ht_all_mc.GetFunction(\"pol5\")\n",
    "\n",
    "test_f.Eval(1000)"
   ]
  },
  {
   "cell_type": "code",
   "execution_count": 16,
   "metadata": {},
   "outputs": [
    {
     "ename": "AttributeError",
     "evalue": "'TPaveStats' object has no attribute 'name'",
     "output_type": "error",
     "traceback": [
      "\u001b[0;31m---------------------------------------------------------------------------\u001b[0m",
      "\u001b[0;31mAttributeError\u001b[0m                            Traceback (most recent call last)",
      "\u001b[0;32m<ipython-input-16-3426b91e165f>\u001b[0m in \u001b[0;36m<module>\u001b[0;34m()\u001b[0m\n\u001b[1;32m      1\u001b[0m \u001b[0ml\u001b[0m \u001b[0;34m=\u001b[0m  \u001b[0mht_all_mc\u001b[0m\u001b[0;34m.\u001b[0m\u001b[0mGetListOfFunctions\u001b[0m\u001b[0;34m(\u001b[0m\u001b[0;34m)\u001b[0m\u001b[0;34m\u001b[0m\u001b[0;34m\u001b[0m\u001b[0m\n\u001b[0;32m----> 2\u001b[0;31m \u001b[0mprint\u001b[0m\u001b[0;34m(\u001b[0m\u001b[0ml\u001b[0m\u001b[0;34m[\u001b[0m\u001b[0;36m0\u001b[0m\u001b[0;34m]\u001b[0m\u001b[0;34m.\u001b[0m\u001b[0mname\u001b[0m\u001b[0;34m)\u001b[0m\u001b[0;34m\u001b[0m\u001b[0;34m\u001b[0m\u001b[0m\n\u001b[0m",
      "\u001b[0;31mAttributeError\u001b[0m: 'TPaveStats' object has no attribute 'name'"
     ]
    }
   ],
   "source": [
    "l =  ht_all_mc.GetListOfFunctions()\n",
    "print(l[0].name)"
   ]
  },
  {
   "cell_type": "code",
   "execution_count": 23,
   "metadata": {},
   "outputs": [],
   "source": [
    "plot_file = r.TFile('ht_correction.root')\n",
    "ht_all = plot_file.Get(\"c1\")\n",
    "ht_ratio = ht_all.GetPrimitive('ht_all_mc')\n",
    "ht_ratio.Draw()"
   ]
  },
  {
   "cell_type": "code",
   "execution_count": 1,
   "metadata": {},
   "outputs": [
    {
     "ename": "NameError",
     "evalue": "name 'data_entries' is not defined",
     "output_type": "error",
     "traceback": [
      "\u001b[0;31m---------------------------------------------------------------------------\u001b[0m",
      "\u001b[0;31mNameError\u001b[0m                                 Traceback (most recent call last)",
      "\u001b[0;32m<timed exec>\u001b[0m in \u001b[0;36m<module>\u001b[0;34m()\u001b[0m\n",
      "\u001b[0;31mNameError\u001b[0m: name 'data_entries' is not defined"
     ]
    }
   ],
   "source": [
    "%%time\n",
    "for jentry in range(data_entries):\n",
    "    nb = data_chain.GetEntry(jentry)\n",
    "    \n",
    "    if nb<=0: continue\n",
    "        \n",
    "    #add requirement for >2 b tag jets \n",
    "    \n",
    "    jet_pt = data_chain.jet_pt[0]\n",
    "    met = data_chain.met_met\n",
    "    \n",
    "    #mu_pt = data_chain.mu_pt\n",
    "\n",
    "    ht_all = data_chain.HT_all\n",
    "    bjets_mc70 = data_chain.nBTags_MV2c10_70\n",
    "    \n",
    "        \n",
    "    #add conditions here\n",
    "    if (bjets_mc70 < 3): continue\n",
    "\n",
    "    met_data.Fill(met)\n",
    "    jet_pt_data.Fill(jet_pt)\n",
    "    #mu_pt_data.Fill(mu_pt)\n",
    "    ht_all_data.Fill(ht_all)\n",
    "    bjets_data.Fill(bjets_mc70)\n"
   ]
  },
  {
   "cell_type": "code",
   "execution_count": 6,
   "metadata": {},
   "outputs": [
    {
     "ename": "KeyboardInterrupt",
     "evalue": "",
     "output_type": "error",
     "traceback": [
      "\u001b[0;31m---------------------------------------------------------------------------\u001b[0m",
      "\u001b[0;31mKeyboardInterrupt\u001b[0m                         Traceback (most recent call last)",
      "\u001b[0;32m<timed exec>\u001b[0m in \u001b[0;36m<module>\u001b[0;34m()\u001b[0m\n",
      "\u001b[0;31mKeyboardInterrupt\u001b[0m: "
     ]
    }
   ],
   "source": [
    "%%time\n",
    "for jentry in range(mc_entries):\n",
    "    nb = mc_chain.GetEntry(jentry)\n",
    "    \n",
    "    if nb<=0: continue\n",
    "        \n",
    "    jet_pt = mc_chain.jet_pt[0]\n",
    "    met = mc_chain.met_met\n",
    "    #mu_pt = mc_chain.mu_pt\n",
    "    ht_all = mc_chain.HT_all\n",
    "    bjets_mc70 = mc_chain.nBTags_MV2c10_70\n",
    "    \n",
    "    #add conditions here\n",
    "    if (bjets_mc70 < 3): continue\n",
    "    \n",
    "    \n",
    "    weight = GetWeight(140, mc_chain)\n",
    "\n",
    "    met_mc.Fill(met,weight)\n",
    "    \n",
    "    jet_pt_mc.Fill(jet_pt, weight)\n",
    "    #mu_pt_mc.Fill(mu_pt, weight)\n",
    "    ht_all_mc.Fill(ht_all, weight)\n",
    "    bjets_mc.Fill(bjets_mc70, weight)\n",
    "    \n"
   ]
  },
  {
   "cell_type": "markdown",
   "metadata": {},
   "source": [
    "dont mix HF with inc\n",
    "\n",
    "v is vector boston\n",
    "\n",
    "ttX is maybe tt +W,Z\n",
    "\n",
    "plot on logy scale and test that "
   ]
  }
 ],
 "metadata": {
  "kernelspec": {
   "display_name": "Python 3",
   "language": "python",
   "name": "python3"
  },
  "language_info": {
   "codemirror_mode": {
    "name": "ipython",
    "version": 3
   },
   "file_extension": ".py",
   "mimetype": "text/x-python",
   "name": "python",
   "nbconvert_exporter": "python",
   "pygments_lexer": "ipython3",
   "version": "3.6.8"
  }
 },
 "nbformat": 4,
 "nbformat_minor": 2
}
