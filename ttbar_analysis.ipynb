{
 "cells": [
  {
   "cell_type": "code",
   "execution_count": 1,
   "metadata": {},
   "outputs": [
    {
     "name": "stdout",
     "output_type": "stream",
     "text": [
      "Welcome to JupyROOT 6.16/00\n"
     ]
    }
   ],
   "source": [
    "from ROOT import TFile, gDirectory\n",
    "import ROOT as r\n",
    "import os"
   ]
  },
  {
   "cell_type": "code",
   "execution_count": 2,
   "metadata": {},
   "outputs": [
    {
     "name": "stdout",
     "output_type": "stream",
     "text": [
      "running\n",
      "CPU times: user 115 µs, sys: 34 µs, total: 149 µs\n",
      "Wall time: 251 µs\n"
     ]
    }
   ],
   "source": [
    "%%time\n",
    "#test if kernel is running\n",
    "\n",
    "print('running')"
   ]
  },
  {
   "cell_type": "markdown",
   "metadata": {},
   "source": [
    "Build files into TChain"
   ]
  },
  {
   "cell_type": "code",
   "execution_count": 5,
   "metadata": {},
   "outputs": [
    {
     "name": "stdout",
     "output_type": "stream",
     "text": [
      "There are 3223533 data events and 23130773 mc events\n",
      "CPU times: user 45.9 ms, sys: 6.61 ms, total: 52.5 ms\n",
      "Wall time: 60.2 ms\n"
     ]
    }
   ],
   "source": [
    "%%time\n",
    "filename = 'ttbar_nonallhad_HF_PhPy8_AFII_mc16a.root'\n",
    "treename = 'nominal_Loose'\n",
    "\n",
    "list_of_files = os.listdir('../data_ttbar/')\n",
    "data_files = [f for f in list_of_files if 'data' in f]\n",
    "mc_files = [ 'ttbar_nonallhad_incl_PhPy8_AFII_mc16a.root', 'ttbar_nonallhad_incl_PhPy8_AFII_mc16d.root','ttbar_nonallhad_incl_PhPy8_AFII_mc16e.root',\n",
    "            'ttX_mc16e.root','ttX_mc16d.root','ttX_mc16a.root',\n",
    "            'vjets_Sherpa_mc16e.root','vjets_Sherpa_mc16d.root', 'vjets_Sherpa_mc16a.root',\n",
    "            'singleTop_mc16e.root','singleTop_mc16d.root','singleTop_mc16a.root',\n",
    "            'multiV_mc16a.root','multiV_mc16d.root','multiV_mc16e.root']\n",
    "#data_files = ['data15_AllYear.root']\n",
    "#mc_files = ['ttbar_nonallhad_HF_PhPy8_AFII_mc16d.root']\n",
    "\n",
    "data_chain = r.TChain(treename)\n",
    "mc_chain = r.TChain(treename)\n",
    "\n",
    "for f in data_files:\n",
    "    data_chain.Add('../data_ttbar/'+f)\n",
    "for f in mc_files:\n",
    "    mc_chain.Add('../data_ttbar/'+ f)\n",
    "\n",
    "data_entries = data_chain.GetEntries()\n",
    "mc_entries = mc_chain.GetEntries()\n",
    "\n",
    "print(f'There are {data_entries} data events and {mc_entries} mc events')"
   ]
  },
  {
   "cell_type": "code",
   "execution_count": 6,
   "metadata": {},
   "outputs": [],
   "source": [
    "#use lum = 140\n",
    "def GetWeight(lumi,tree):\n",
    "    return lumi * 1000 * tree.weight_normalise *  tree.weight_mc *  tree.weight_pileup *tree.weight_leptonSF *  tree.weight_bTagSF_MV2c10_77 *  tree.weight_jvt"
   ]
  },
  {
   "cell_type": "markdown",
   "metadata": {},
   "source": [
    "Initialize histograms"
   ]
  },
  {
   "cell_type": "code",
   "execution_count": 17,
   "metadata": {},
   "outputs": [
    {
     "name": "stderr",
     "output_type": "stream",
     "text": [
      "Warning in <TROOT::Append>: Replacing existing TH1: met_data (Potential memory leak).\n",
      "Warning in <TROOT::Append>: Replacing existing TH1: jet_pt_data (Potential memory leak).\n"
     ]
    }
   ],
   "source": [
    "#####\n",
    "#Set Up Code\n",
    "#####\n",
    "\n",
    "met_mc = r.TH1D('met_mc', 'E^{T}_{miss}', 100, 0, .8*10**6)\n",
    "jet_pt_mc = r.TH1D('jet_pt_mc', 'jet_{pt}', 100, 0, 1.5*10**6)\n",
    "met_data = r.TH1D('met_data', 'E^T_{miss}', 100, 0, .8*10**6)\n",
    "jet_pt_data = r.TH1D('jet_pt_data', 'jet_{pt}', 100, 0, 1.5*10**6)\n",
    "mu_pt_mc = r.TH1D('mu_pt_mc', '\\mu_{pt}', 100, 0, 800*10**3)\n",
    "mu_pt_data = r.TH1D('mu_pt_data', '\\mu_{pt}', 100, 0, 800*10**3)\n",
    "ht_all_mc = r.TH1D('ht_all_mc', '\\mu_{pt}', 100, 0, 4000*10**3)\n",
    "ht_all_data = r.TH1D('ht_all_data', '\\mu_{pt}', 100, 0, 4000*10**3)\n"
   ]
  },
  {
   "cell_type": "markdown",
   "metadata": {},
   "source": [
    "Fill histograms"
   ]
  },
  {
   "cell_type": "code",
   "execution_count": 16,
   "metadata": {},
   "outputs": [
    {
     "name": "stdout",
     "output_type": "stream",
     "text": [
      "CPU times: user 1.05 s, sys: 39.7 ms, total: 1.09 s\n",
      "Wall time: 1.09 s\n"
     ]
    }
   ],
   "source": [
    "%%time\n",
    "for jentry in range(mc_entries):\n",
    "    nb = mc_chain.GetEntry(jentry)\n",
    "    \n",
    "    if nb<=0: continue\n",
    "        \n",
    "    #if (): continue\n",
    "    \n",
    "    \n",
    " \n",
    "    jet_pt = mc_chain.jet_pt[0]\n",
    "    met = mc_chain.met_met\n",
    "    \n",
    "    weight = GetWeight(104, mc_chain)\n",
    "\n",
    "    met_mc.Fill(met,weight)\n",
    "    jet_pt_mc.Fill(jet_pt, weight)\n"
   ]
  },
  {
   "cell_type": "code",
   "execution_count": 10,
   "metadata": {},
   "outputs": [
    {
     "name": "stdout",
     "output_type": "stream",
     "text": [
      "CPU times: user 1min 53s, sys: 8.01 s, total: 2min 1s\n",
      "Wall time: 2min 8s\n"
     ]
    }
   ],
   "source": [
    "%%time\n",
    "for jentry in range(data_entries):\n",
    "    nb = data_chain.GetEntry(jentry)\n",
    "    \n",
    "    if nb<=0: continue\n",
    "        \n",
    "    #if (): continue\n",
    "    \n",
    "    \n",
    " \n",
    "    jet_pt = data_chain.jet_pt[0]\n",
    "    \n",
    "\n",
    "    met = data_chain.met_met\n",
    "  \n",
    "    met_data.Fill(met)\n",
    "    jet_pt_data.Fill(jet_pt)\n"
   ]
  },
  {
   "cell_type": "markdown",
   "metadata": {},
   "source": [
    "Plot and draw settings"
   ]
  },
  {
   "cell_type": "code",
   "execution_count": 12,
   "metadata": {},
   "outputs": [
    {
     "name": "stderr",
     "output_type": "stream",
     "text": [
      "Warning in <TH1D::Sumw2>: Sum of squares of weights structure already created\n",
      "Warning in <TGraphAsymmErrors::Divide>: Number of graph points is different than histogram bins - 1 points have been skipped\n",
      "Warning in <TH1D::Sumw2>: Sum of squares of weights structure already created\n"
     ]
    },
    {
     "data": {
      "image/png": "[encoded data removed]",
      "text/plain": [
       "<IPython.core.display.Image object>"
      ]
     },
     "metadata": {},
     "output_type": "display_data"
    },
    {
     "data": {
      "image/png": "[encoded data removed]",
      "text/plain": [
       "<IPython.core.display.Image object>"
      ]
     },
     "metadata": {},
     "output_type": "display_data"
    }
   ],
   "source": [
    "###\n",
    "#Wrap Up\n",
    "####\n",
    "c = r.TCanvas()\n",
    "jet_pt_hist.Sumw2()\n",
    "jet_pt_data.Sumw2()\n",
    "rp_jet_pt = r.TRatioPlot(jet_pt_hist, jet_pt_data)\n",
    "rp_jet_pt.Draw()\n",
    "c.Draw()\n",
    "\n",
    "c2 = r.TCanvas()\n",
    "met_hist.Sumw2()\n",
    "met_data.Sumw2()\n",
    "rp_met = r.TRatioPlot(met_hist, met_data)\n",
    "\n",
    "rp_met.Draw()\n",
    "\n",
    "c2.Draw()"
   ]
  },
  {
   "cell_type": "markdown",
   "metadata": {},
   "source": [
    "dont mix HF with inc\n",
    "\n",
    "v is vector boston\n",
    "\n",
    "ttX is maybe tt +W,Z\n",
    "\n",
    "plot on logy scale and test that "
   ]
  },
  {
   "cell_type": "code",
   "execution_count": null,
   "metadata": {},
   "outputs": [],
   "source": []
  }
 ],
 "metadata": {
  "kernelspec": {
   "display_name": "Python 3",
   "language": "python",
   "name": "python3"
  },
  "language_info": {
   "codemirror_mode": {
    "name": "ipython",
    "version": 3
   },
   "file_extension": ".py",
   "mimetype": "text/x-python",
   "name": "python",
   "nbconvert_exporter": "python",
   "pygments_lexer": "ipython3",
   "version": "3.6.8"
  }
 },
 "nbformat": 4,
 "nbformat_minor": 2
}
